{
  "nbformat": 4,
  "nbformat_minor": 0,
  "metadata": {
    "colab": {
      "provenance": [],
      "machine_shape": "hm",
      "gpuType": "T4"
    },
    "kernelspec": {
      "name": "python3",
      "display_name": "Python 3"
    },
    "language_info": {
      "name": "python"
    },
    "accelerator": "GPU"
  },
  "cells": [
    {
      "cell_type": "code",
      "source": [
        "from google.colab import drive\n",
        "drive.mount('/content/drive')"
      ],
      "metadata": {
        "colab": {
          "base_uri": "https://localhost:8080/"
        },
        "id": "A02E0ePvwvLD",
        "outputId": "b36660c5-adab-44c4-cd27-fcf3ceba3590"
      },
      "execution_count": 61,
      "outputs": [
        {
          "output_type": "stream",
          "name": "stdout",
          "text": [
            "Drive already mounted at /content/drive; to attempt to forcibly remount, call drive.mount(\"/content/drive\", force_remount=True).\n"
          ]
        }
      ]
    },
    {
      "cell_type": "code",
      "source": [
        "# !cd /content/drive/'path'"
      ],
      "metadata": {
        "id": "1zUdUyK40ktW"
      },
      "execution_count": 62,
      "outputs": []
    },
    {
      "cell_type": "code",
      "source": [
        "!pip install lxml\n",
        "!pip install wordcloud\n",
        "!pip install imblearn\n",
        "!pip install scikit-learn"
      ],
      "metadata": {
        "colab": {
          "base_uri": "https://localhost:8080/"
        },
        "id": "zJJ14hN3nQTb",
        "outputId": "7d14c68f-0b48-4568-cf23-86ae733fdadf"
      },
      "execution_count": 63,
      "outputs": [
        {
          "output_type": "stream",
          "name": "stdout",
          "text": [
            "Requirement already satisfied: lxml in /usr/local/lib/python3.10/dist-packages (4.9.4)\n",
            "Requirement already satisfied: wordcloud in /usr/local/lib/python3.10/dist-packages (1.9.3)\n",
            "Requirement already satisfied: numpy>=1.6.1 in /usr/local/lib/python3.10/dist-packages (from wordcloud) (1.25.2)\n",
            "Requirement already satisfied: pillow in /usr/local/lib/python3.10/dist-packages (from wordcloud) (9.4.0)\n",
            "Requirement already satisfied: matplotlib in /usr/local/lib/python3.10/dist-packages (from wordcloud) (3.7.1)\n",
            "Requirement already satisfied: contourpy>=1.0.1 in /usr/local/lib/python3.10/dist-packages (from matplotlib->wordcloud) (1.2.1)\n",
            "Requirement already satisfied: cycler>=0.10 in /usr/local/lib/python3.10/dist-packages (from matplotlib->wordcloud) (0.12.1)\n",
            "Requirement already satisfied: fonttools>=4.22.0 in /usr/local/lib/python3.10/dist-packages (from matplotlib->wordcloud) (4.51.0)\n",
            "Requirement already satisfied: kiwisolver>=1.0.1 in /usr/local/lib/python3.10/dist-packages (from matplotlib->wordcloud) (1.4.5)\n",
            "Requirement already satisfied: packaging>=20.0 in /usr/local/lib/python3.10/dist-packages (from matplotlib->wordcloud) (24.0)\n",
            "Requirement already satisfied: pyparsing>=2.3.1 in /usr/local/lib/python3.10/dist-packages (from matplotlib->wordcloud) (3.1.2)\n",
            "Requirement already satisfied: python-dateutil>=2.7 in /usr/local/lib/python3.10/dist-packages (from matplotlib->wordcloud) (2.8.2)\n",
            "Requirement already satisfied: six>=1.5 in /usr/local/lib/python3.10/dist-packages (from python-dateutil>=2.7->matplotlib->wordcloud) (1.16.0)\n",
            "Requirement already satisfied: imblearn in /usr/local/lib/python3.10/dist-packages (0.0)\n",
            "Requirement already satisfied: imbalanced-learn in /usr/local/lib/python3.10/dist-packages (from imblearn) (0.10.1)\n",
            "Requirement already satisfied: numpy>=1.17.3 in /usr/local/lib/python3.10/dist-packages (from imbalanced-learn->imblearn) (1.25.2)\n",
            "Requirement already satisfied: scipy>=1.3.2 in /usr/local/lib/python3.10/dist-packages (from imbalanced-learn->imblearn) (1.11.4)\n",
            "Requirement already satisfied: scikit-learn>=1.0.2 in /usr/local/lib/python3.10/dist-packages (from imbalanced-learn->imblearn) (1.2.2)\n",
            "Requirement already satisfied: joblib>=1.1.1 in /usr/local/lib/python3.10/dist-packages (from imbalanced-learn->imblearn) (1.4.2)\n",
            "Requirement already satisfied: threadpoolctl>=2.0.0 in /usr/local/lib/python3.10/dist-packages (from imbalanced-learn->imblearn) (3.5.0)\n",
            "Requirement already satisfied: scikit-learn in /usr/local/lib/python3.10/dist-packages (1.2.2)\n",
            "Requirement already satisfied: numpy>=1.17.3 in /usr/local/lib/python3.10/dist-packages (from scikit-learn) (1.25.2)\n",
            "Requirement already satisfied: scipy>=1.3.2 in /usr/local/lib/python3.10/dist-packages (from scikit-learn) (1.11.4)\n",
            "Requirement already satisfied: joblib>=1.1.1 in /usr/local/lib/python3.10/dist-packages (from scikit-learn) (1.4.2)\n",
            "Requirement already satisfied: threadpoolctl>=2.0.0 in /usr/local/lib/python3.10/dist-packages (from scikit-learn) (3.5.0)\n"
          ]
        }
      ]
    },
    {
      "cell_type": "code",
      "source": [
        "!pip install faster-whisper\n",
        "# !pip install gradio\n",
        "# !pip install googletrans==4.0.0-rc1\n",
        "# !pip install --upgrade tensorflow"
      ],
      "metadata": {
        "collapsed": true,
        "id": "Ki0mfKdxfrmJ",
        "colab": {
          "base_uri": "https://localhost:8080/"
        },
        "outputId": "9cba2b44-1fee-4692-f935-52fae141d372"
      },
      "execution_count": 64,
      "outputs": [
        {
          "output_type": "stream",
          "name": "stdout",
          "text": [
            "Requirement already satisfied: faster-whisper in /usr/local/lib/python3.10/dist-packages (1.0.2)\n",
            "Requirement already satisfied: av<13,>=11.0 in /usr/local/lib/python3.10/dist-packages (from faster-whisper) (12.1.0)\n",
            "Requirement already satisfied: ctranslate2<5,>=4.0 in /usr/local/lib/python3.10/dist-packages (from faster-whisper) (4.2.1)\n",
            "Requirement already satisfied: huggingface-hub>=0.13 in /usr/local/lib/python3.10/dist-packages (from faster-whisper) (0.23.1)\n",
            "Requirement already satisfied: tokenizers<1,>=0.13 in /usr/local/lib/python3.10/dist-packages (from faster-whisper) (0.19.1)\n",
            "Requirement already satisfied: onnxruntime<2,>=1.14 in /usr/local/lib/python3.10/dist-packages (from faster-whisper) (1.18.0)\n",
            "Requirement already satisfied: setuptools in /usr/local/lib/python3.10/dist-packages (from ctranslate2<5,>=4.0->faster-whisper) (67.7.2)\n",
            "Requirement already satisfied: numpy in /usr/local/lib/python3.10/dist-packages (from ctranslate2<5,>=4.0->faster-whisper) (1.25.2)\n",
            "Requirement already satisfied: pyyaml<7,>=5.3 in /usr/local/lib/python3.10/dist-packages (from ctranslate2<5,>=4.0->faster-whisper) (6.0.1)\n",
            "Requirement already satisfied: filelock in /usr/local/lib/python3.10/dist-packages (from huggingface-hub>=0.13->faster-whisper) (3.14.0)\n",
            "Requirement already satisfied: fsspec>=2023.5.0 in /usr/local/lib/python3.10/dist-packages (from huggingface-hub>=0.13->faster-whisper) (2023.6.0)\n",
            "Requirement already satisfied: packaging>=20.9 in /usr/local/lib/python3.10/dist-packages (from huggingface-hub>=0.13->faster-whisper) (24.0)\n",
            "Requirement already satisfied: requests in /usr/local/lib/python3.10/dist-packages (from huggingface-hub>=0.13->faster-whisper) (2.31.0)\n",
            "Requirement already satisfied: tqdm>=4.42.1 in /usr/local/lib/python3.10/dist-packages (from huggingface-hub>=0.13->faster-whisper) (4.66.4)\n",
            "Requirement already satisfied: typing-extensions>=3.7.4.3 in /usr/local/lib/python3.10/dist-packages (from huggingface-hub>=0.13->faster-whisper) (4.11.0)\n",
            "Requirement already satisfied: coloredlogs in /usr/local/lib/python3.10/dist-packages (from onnxruntime<2,>=1.14->faster-whisper) (15.0.1)\n",
            "Requirement already satisfied: flatbuffers in /usr/local/lib/python3.10/dist-packages (from onnxruntime<2,>=1.14->faster-whisper) (24.3.25)\n",
            "Requirement already satisfied: protobuf in /usr/local/lib/python3.10/dist-packages (from onnxruntime<2,>=1.14->faster-whisper) (3.20.3)\n",
            "Requirement already satisfied: sympy in /usr/local/lib/python3.10/dist-packages (from onnxruntime<2,>=1.14->faster-whisper) (1.12)\n",
            "Requirement already satisfied: humanfriendly>=9.1 in /usr/local/lib/python3.10/dist-packages (from coloredlogs->onnxruntime<2,>=1.14->faster-whisper) (10.0)\n",
            "Requirement already satisfied: charset-normalizer<4,>=2 in /usr/local/lib/python3.10/dist-packages (from requests->huggingface-hub>=0.13->faster-whisper) (3.3.2)\n",
            "Requirement already satisfied: idna<4,>=2.5 in /usr/local/lib/python3.10/dist-packages (from requests->huggingface-hub>=0.13->faster-whisper) (2.10)\n",
            "Requirement already satisfied: urllib3<3,>=1.21.1 in /usr/local/lib/python3.10/dist-packages (from requests->huggingface-hub>=0.13->faster-whisper) (2.0.7)\n",
            "Requirement already satisfied: certifi>=2017.4.17 in /usr/local/lib/python3.10/dist-packages (from requests->huggingface-hub>=0.13->faster-whisper) (2024.2.2)\n",
            "Requirement already satisfied: mpmath>=0.19 in /usr/local/lib/python3.10/dist-packages (from sympy->onnxruntime<2,>=1.14->faster-whisper) (1.3.0)\n"
          ]
        }
      ]
    },
    {
      "cell_type": "code",
      "source": [
        "from faster_whisper import WhisperModel\n",
        "\n",
        "stt_model = WhisperModel(\"large-v3\")"
      ],
      "metadata": {
        "collapsed": true,
        "id": "27XNYIsmwghy"
      },
      "execution_count": 65,
      "outputs": []
    },
    {
      "cell_type": "code",
      "source": [
        "# stt를 실행하는 함수\n",
        "def stt_func(filepath):\n",
        "\n",
        "  transcripts = []\n",
        "\n",
        "  segments, info = stt_model.transcribe(filepath, language=\"ko\")\n",
        "  tmp = \"\"\n",
        "  for segment in segments:\n",
        "#    tmp = tmp + segment.text\n",
        "    transcripts.append(segment.text)\n",
        "\n",
        "  return transcripts"
      ],
      "metadata": {
        "id": "oBRSFU_Bfv9B"
      },
      "execution_count": 66,
      "outputs": []
    },
    {
      "cell_type": "code",
      "source": [
        "# record = []\n",
        "# def trans_audio(filepath):\n",
        "#     segments, info = stt_model.transcribe(filepath, language=\"en\", task = \"transcribe\")\n",
        "#     tmp = \"\"\n",
        "#     for segment in segments:\n",
        "#         tmp = tmp + segment.text\n",
        "#         record.append(tmp)\n",
        "#     return tmp\n",
        "\n",
        "# import gradio as gr\n",
        "# import time\n",
        "\n",
        "# def recording():\n",
        "#   output_1 = gr.Textbox(label=\"Speech to Text\")\n",
        "\n",
        "#   gr.Interface(\n",
        "#     title = 'OpenAI Whisper ASR Gradio Web UI',\n",
        "#     fn = trans_audio,\n",
        "#     inputs=[gr.Audio(type=\"filepath\")],\n",
        "#     outputs = [output_1],\n",
        "#     live=True).launch()"
      ],
      "metadata": {
        "id": "2vg8Jfu-vQ-a"
      },
      "execution_count": 67,
      "outputs": []
    },
    {
      "cell_type": "code",
      "source": [
        "!pip install googletrans==4.0.0-rc1\n"
      ],
      "metadata": {
        "colab": {
          "base_uri": "https://localhost:8080/"
        },
        "id": "UdAsq3ah_oun",
        "outputId": "1a81c064-13ae-46a0-b1ae-be92574f5583"
      },
      "execution_count": 68,
      "outputs": [
        {
          "output_type": "stream",
          "name": "stdout",
          "text": [
            "Requirement already satisfied: googletrans==4.0.0-rc1 in /usr/local/lib/python3.10/dist-packages (4.0.0rc1)\n",
            "Requirement already satisfied: httpx==0.13.3 in /usr/local/lib/python3.10/dist-packages (from googletrans==4.0.0-rc1) (0.13.3)\n",
            "Requirement already satisfied: certifi in /usr/local/lib/python3.10/dist-packages (from httpx==0.13.3->googletrans==4.0.0-rc1) (2024.2.2)\n",
            "Requirement already satisfied: hstspreload in /usr/local/lib/python3.10/dist-packages (from httpx==0.13.3->googletrans==4.0.0-rc1) (2024.6.1)\n",
            "Requirement already satisfied: sniffio in /usr/local/lib/python3.10/dist-packages (from httpx==0.13.3->googletrans==4.0.0-rc1) (1.3.1)\n",
            "Requirement already satisfied: chardet==3.* in /usr/local/lib/python3.10/dist-packages (from httpx==0.13.3->googletrans==4.0.0-rc1) (3.0.4)\n",
            "Requirement already satisfied: idna==2.* in /usr/local/lib/python3.10/dist-packages (from httpx==0.13.3->googletrans==4.0.0-rc1) (2.10)\n",
            "Requirement already satisfied: rfc3986<2,>=1.3 in /usr/local/lib/python3.10/dist-packages (from httpx==0.13.3->googletrans==4.0.0-rc1) (1.5.0)\n",
            "Requirement already satisfied: httpcore==0.9.* in /usr/local/lib/python3.10/dist-packages (from httpx==0.13.3->googletrans==4.0.0-rc1) (0.9.1)\n",
            "Requirement already satisfied: h11<0.10,>=0.8 in /usr/local/lib/python3.10/dist-packages (from httpcore==0.9.*->httpx==0.13.3->googletrans==4.0.0-rc1) (0.9.0)\n",
            "Requirement already satisfied: h2==3.* in /usr/local/lib/python3.10/dist-packages (from httpcore==0.9.*->httpx==0.13.3->googletrans==4.0.0-rc1) (3.2.0)\n",
            "Requirement already satisfied: hyperframe<6,>=5.2.0 in /usr/local/lib/python3.10/dist-packages (from h2==3.*->httpcore==0.9.*->httpx==0.13.3->googletrans==4.0.0-rc1) (5.2.0)\n",
            "Requirement already satisfied: hpack<4,>=3.0 in /usr/local/lib/python3.10/dist-packages (from h2==3.*->httpcore==0.9.*->httpx==0.13.3->googletrans==4.0.0-rc1) (3.0.0)\n"
          ]
        }
      ]
    },
    {
      "cell_type": "code",
      "source": [
        "from googletrans import Translator\n",
        "# def translate_file(input_file_path, output_file_path, src_lang='ko', dest_lang='en'):\n",
        "#     # 번역기 초기화\n",
        "#     translator = Translator()\n",
        "\n",
        "#     # 입력 파일 읽기\n",
        "#     with open(input_file_path, 'r', encoding='utf-8') as file:\n",
        "#         korean_text = file.read()\n",
        "\n",
        "#     # 한국어 텍스트를 영어로 번역\n",
        "#     translation = translator.translate(korean_text, src=src_lang, dest=dest_lang)\n",
        "#     english_text = translation.text\n",
        "\n",
        "#     # 번역된 텍스트를 출력 파일로 저장\n",
        "#     with open(output_file_path, 'w', encoding='utf-8') as file:\n",
        "#         file.write(english_text)"
      ],
      "metadata": {
        "id": "406oGhVYwVhz"
      },
      "execution_count": 69,
      "outputs": []
    },
    {
      "cell_type": "code",
      "source": [
        "import warnings\n",
        "warnings.filterwarnings('ignore')\n",
        "\n",
        "import pandas as pd\n",
        "import numpy as np\n",
        "\n",
        "# CSV 파일 불러오기\n",
        "# data1 = pd.read_csv('/content/drive/MyDrive/MBTI 500.csv')\n",
        "# data2 = pd.read_csv('/content/drive/MyDrive/mbti_1.csv')\n",
        "\n",
        "# # MBTI_500과 mbti 데이터 합치기\n",
        "# data = pd.concat([data1, data2], ignore_index=True)\n",
        "\n",
        "# # 기존에 T 또는 F를 포함하는 성격 유형에 대해 해당 문자로 대체\n",
        "# data['type'] = data['type'].replace({\n",
        "#     'INTJ': 'T', 'INTP': 'T', 'ENTJ': 'T', 'ENTP': 'T',\n",
        "#     'ISTJ': 'T', 'ISTP': 'T', 'ESTJ': 'T', 'ESTP': 'T',\n",
        "#     'INFJ': 'F', 'INFP': 'F', 'ENFJ': 'F', 'ENFP': 'F',\n",
        "#     'ISFJ': 'F', 'ISFP': 'F', 'ESFJ': 'F', 'ESFP': 'F'\n",
        "# })\n",
        "\n",
        "import pandas as pd\n",
        "\n",
        "# Google Drive에 저장된 CSV 파일 경로\n",
        "file_path = '/content/drive/MyDrive/adasyn.csv'\n",
        "# CSV 파일 로드\n",
        "data = pd.read_csv(file_path, index_col=False)"
      ],
      "metadata": {
        "id": "XZAZ9-4jeD_7"
      },
      "execution_count": 70,
      "outputs": []
    },
    {
      "cell_type": "code",
      "source": [
        "# 전처리 함수에서 사용할 contractions\n",
        "contractions = {\n",
        "    \"'cause\": 'because', \"I'd\": 'I would', \"I'd've\": 'I would have', \"I'll\": 'I will', \"I'll've\": 'I will have',\n",
        "    \"I'm\": 'I am', \"I've\": 'I have', \"ain't\": 'is not', \"aren't\": 'are not', \"can't\": 'cannot', \"could've\": 'could have',\n",
        "    \"couldn't\": 'could not', \"didn't\": 'did not', \"doesn't\": 'does not', \"don't\": 'do not', \"hadn't\": 'had not',\n",
        "    \"hasn't\": 'has not', \"haven't\": 'have not', \"he'd\": 'he would', \"he'll\": 'he will', \"he's\": 'he is', \"here's\": 'here is',\n",
        "    \"how'd\": 'how did', \"how'd'y\": 'how do you', \"how'll\": 'how will', \"how's\": 'how is', \"i'd\": 'i would', \"i'd've\": 'i would have',\n",
        "    \"i'll\": 'i will', \"i'll've\": 'i will have', \"i'm\": 'i am', \"i've\": 'i have', \"isn't\": 'is not', \"it'd\": 'it would',\n",
        "    \"it'd've\": 'it would have', \"it'll\": 'it will', \"it'll've\": 'it will have', \"it's\": 'it is', \"let's\": 'let us', \"ma'am\": 'madam',\n",
        "    \"mayn't\": 'may not', \"might've\": 'might have', \"mightn't\": 'might not', \"mightn't've\": 'might not have', \"must've\": 'must have',\n",
        "    \"mustn't\": 'must not', \"mustn't've\": 'must not have', \"needn't\": 'need not', \"needn't've\": 'need not have', \"o'clock\": 'of the clock',\n",
        "    \"oughtn't\": 'ought not', \"oughtn't've\": 'ought not have', \"sha'n't\": 'shall not', \"shan't\": 'shall not', \"shan't've\": 'shall not have',\n",
        "    \"she'd\": 'she would', \"she'd've\": 'she would have', \"she'll\": 'she will', \"she'll've\": 'she will have', \"she's\": 'she is',\n",
        "    \"should've\": 'should have', \"shouldn't\": 'should not', \"shouldn't've\": 'should not have', \"so's\": 'so as', \"so've\": 'so have',\n",
        "    \"that'd\": 'that would', \"that'd've\": 'that would have', \"that's\": 'that is', \"there'd\": 'there would', \"there'd've\": 'there would have',\n",
        "    \"there's\": 'there is', \"they'd\": 'they would', \"they'd've\": 'they would have', \"they'll\": 'they will', \"they'll've\": 'they will have',\n",
        "    \"they're\": 'they are', \"they've\": 'they have', \"this's\": 'this is', \"to've\": 'to have', \"wasn't\": 'was not', \"we'd\": 'we would',\n",
        "    \"we'd've\": 'we would have', \"we'll\": 'we will', \"we'll've\": 'we will have', \"we're\": 'we are', \"we've\": 'we have', \"weren't\": 'were not',\n",
        "    \"what'll\": 'what will', \"what'll've\": 'what will have', \"what're\": 'what are', \"what's\": 'what is', \"what've\": 'what have',\n",
        "    \"when's\": 'when is', \"when've\": 'when have', \"where'd\": 'where did', \"where's\": 'where is', \"where've\": 'where have', \"who'll\": 'who will',\n",
        "    \"who'll've\": 'who will have', \"who's\": 'who is', \"who've\": 'who have', \"why's\": 'why is', \"why've\": 'why have', \"will've\": 'will have',\n",
        "    \"won't\": 'will not', \"won't've\": 'will not have', \"would've\": 'would have', \"wouldn't\": 'would not', \"wouldn't've\": 'would not have',\n",
        "    \"y'all\": 'you all', \"y'all'd\": 'you all would', \"y'all'd've\": 'you all would have', \"y'all're\": 'you all are', \"y'all've\": 'you all have',\n",
        "    \"you'd\": 'you would', \"you'd've\": 'you would have', \"you'll\": 'you will', \"you'll've\": 'you will have', \"you're\": 'you are', \"you've\": 'you have'\n",
        "}"
      ],
      "metadata": {
        "id": "iAcRpKXBhvtr"
      },
      "execution_count": 71,
      "outputs": []
    },
    {
      "cell_type": "code",
      "source": [
        "import nltk\n",
        "from nltk.corpus import stopwords\n",
        "nltk.download('stopwords')\n",
        "stop_words = set(stopwords.words('english'))\n",
        "\n",
        "import re\n",
        "from bs4 import BeautifulSoup\n",
        "def preprocess_sentence(sentence, remove_stopwords = True):\n",
        "    sentence = re.sub(r'https?:\\/\\/.*?[\\s+]', '', sentence)   # Links 제거\n",
        "    sentence = sentence.lower()                               # 텍스트 소문자화\n",
        "    sentence = BeautifulSoup(sentence, \"lxml\").text           # <br />, <a href = ...> 등의 html 태그 제거\n",
        "    sentence = re.sub(r'\\([^)]*\\)', '', sentence)             # 괄호로 닫힌 문자열  제거 ex) my friend(yugyeong) -> my friend\n",
        "    sentence = re.sub('\"','', sentence)                       # 쌍따옴표 \" 제거\n",
        "    sentence = ' '.join([contractions[t] if t in contractions else t for t in sentence.split(\" \")]) # 약어 정규화\n",
        "    sentence = re.sub(r\"'s\\b\",\"\",sentence)                    # 소유격 제거. ex) yugyeong's -> yugyeong\n",
        "    sentence = re.sub(\"[^a-zA-Z]\", \" \", sentence)             # 영어 외 문자(숫자, 특수문자 등) 공백으로 변환\n",
        "    sentence = re.sub('[m]{2,}', 'mm', sentence)               # m이 3개 이상이면 2개로 변경. ex) ummmmmmm  -> umm\n",
        "\n",
        "    pers_types = ['infp' ,'infj', 'intp', 'intj', 'istp', 'isfp', 'isfj','istp',\n",
        "                  'entp', 'enfp', 'entj', 'enfj', 'estp', 'esfp' ,'esfj' ,'estj']\n",
        "    for types in pers_types:\n",
        "      sentence = sentence.replace(types, '')\n",
        "\n",
        "    # 불용어 제거 (Text)\n",
        "    if remove_stopwords:\n",
        "        tokens = ' '.join(word for word in sentence.split() if not word in stop_words if len(word) > 1)\n",
        "    # 불용어 미제거 (Summary)\n",
        "    else:\n",
        "        tokens = ' '.join(word for word in sentence.split() if len(word) > 1)\n",
        "    return tokens\n",
        "\n",
        "# # 데이터 프레임의 'posts' 컬럼에 전처리 적용\n",
        "# clean_posts = []\n",
        "# for s in data['posts']:\n",
        "#     clean_posts.append(preprocess_sentence(s))\n",
        "\n",
        "# # 전처리된 결과 확인\n",
        "# print(clean_posts[:5])"
      ],
      "metadata": {
        "colab": {
          "base_uri": "https://localhost:8080/"
        },
        "id": "aCR8QUC1mS8Z",
        "outputId": "ad2eaddd-6ded-404b-b31b-62deaa8523e2"
      },
      "execution_count": 72,
      "outputs": [
        {
          "output_type": "stream",
          "name": "stderr",
          "text": [
            "[nltk_data] Downloading package stopwords to /root/nltk_data...\n",
            "[nltk_data]   Package stopwords is already up-to-date!\n"
          ]
        }
      ]
    },
    {
      "cell_type": "code",
      "source": [
        "import joblib\n",
        "\n",
        "\n",
        "joblib_file = \"/content/drive/MyDrive/calibrated_svc.pkl\"\n",
        "svc_clf = joblib.load(joblib_file)"
      ],
      "metadata": {
        "id": "U6ytQ5sFTMRe"
      },
      "execution_count": 81,
      "outputs": []
    },
    {
      "cell_type": "code",
      "source": [
        "from sklearn.metrics import classification_report\n",
        "from sklearn.model_selection import train_test_split\n",
        "\n",
        "# 데이터 로드 및 분할\n",
        "X = data['posts']\n",
        "y = data['type']\n",
        "\n",
        "X, X_test, y, y_test = train_test_split(X, y, test_size=0.2, random_state=42)\n",
        "svc_pre = svc_clf.predict(X_test)\n",
        "\n",
        "classfication_report = classification_report(y_test, svc_pre, output_dict=True)\n",
        "print(classfication_report)"
      ],
      "metadata": {
        "colab": {
          "base_uri": "https://localhost:8080/"
        },
        "id": "AYSbK1HnTUvc",
        "outputId": "d563e143-6735-49a6-f90d-428bffa9bfb6"
      },
      "execution_count": 82,
      "outputs": [
        {
          "output_type": "stream",
          "name": "stdout",
          "text": [
            "{'F': {'precision': 0.9271440466278101, 'recall': 0.9306310071040534, 'f1-score': 0.9288842544316996, 'support': 16751}, 'T': {'precision': 0.9195625086529143, 'recall': 0.9155696464263561, 'f1-score': 0.9175617337247453, 'support': 14509}, 'accuracy': 0.9236404350607805, 'macro avg': {'precision': 0.9233532776403622, 'recall': 0.9231003267652047, 'f1-score': 0.9232229940782224, 'support': 31260}, 'weighted avg': {'precision': 0.9236251555696603, 'recall': 0.9236404350607805, 'f1-score': 0.9236290256109319, 'support': 31260}}\n"
          ]
        }
      ]
    },
    {
      "cell_type": "code",
      "source": [
        "import numpy as np\n",
        "import matplotlib.pyplot as plt\n",
        "from sklearn.svm import SVC\n",
        "from sklearn.metrics import roc_curve, roc_auc_score, auc\n",
        "from sklearn.model_selection import train_test_split\n",
        "from sklearn.datasets import load_iris\n",
        "from sklearn.preprocessing import label_binarize\n",
        "# 예측 확률\n",
        "y_prob = svc_clf.predict_proba(X_test)[:, 1]\n",
        "\n",
        "y_test_binary = np.where(y_test == 'T', 1, 0)\n",
        "\n",
        "# ROC 커브 계산\n",
        "fpr, tpr, thresholds = roc_curve(y_test_binary, y_prob)\n",
        "roc_auc = auc(fpr, tpr)\n",
        "\n",
        "# ROC 커브 그리기\n",
        "plt.figure()\n",
        "plt.plot(fpr, tpr, color='darkorange', lw=2, label='ROC curve (area = %0.2f)' % roc_auc)\n",
        "plt.plot([0, 1], [0, 1], color='navy', lw=2, linestyle='--')\n",
        "plt.xlim([0.0, 1.0])\n",
        "plt.ylim([0.0, 1.05])\n",
        "plt.xlabel('False Positive Rate')\n",
        "plt.ylabel('True Positive Rate')\n",
        "plt.title('Linear SVM ROC curve')\n",
        "plt.legend(loc=\"lower right\")\n",
        "plt.show()"
      ],
      "metadata": {
        "colab": {
          "base_uri": "https://localhost:8080/",
          "height": 472
        },
        "id": "vIrZLuJ4UbZ_",
        "outputId": "5184cf0a-b6c9-4cc2-9b82-52a6123db394"
      },
      "execution_count": 83,
      "outputs": [
        {
          "output_type": "display_data",
          "data": {
            "text/plain": [
              "<Figure size 640x480 with 1 Axes>"
            ],
            "image/png": "[encoded data removed]"
          },
          "metadata": {}
        }
      ]
    },
    {
      "cell_type": "code",
      "source": [
        "import seaborn as sns\n",
        "\n",
        "# 보고서를 데이터프레임으로 변환\n",
        "df_report = pd.DataFrame(classfication_report).transpose()\n",
        "\n",
        "# 히트맵 생성\n",
        "plt.figure(figsize=(10, 6))\n",
        "sns.heatmap(df_report.drop('support', axis=1), annot=True, cmap='Blues')\n",
        "plt.title('Linear SVM Heatmap')\n",
        "plt.show()"
      ],
      "metadata": {
        "colab": {
          "base_uri": "https://localhost:8080/",
          "height": 545
        },
        "id": "MAvk0W4GvpoW",
        "outputId": "4f4489c9-41be-435e-8a9f-6f0a784c627e"
      },
      "execution_count": 84,
      "outputs": [
        {
          "output_type": "display_data",
          "data": {
            "text/plain": [
              "<Figure size 1000x600 with 2 Axes>"
            ],
            "image/png": "[encoded data removed]"
          },
          "metadata": {}
        }
      ]
    },
    {
      "cell_type": "code",
      "source": [
        "from tensorflow.keras.models import load_model\n",
        "\n",
        "lstm = load_model(\"/content/drive/MyDrive/lstm_model.h5\")\n",
        "lstm.summary()"
      ],
      "metadata": {
        "colab": {
          "base_uri": "https://localhost:8080/"
        },
        "id": "G6E6DWnsW3XK",
        "outputId": "4817b037-a872-4596-ff77-7f6ceb1bc4d8"
      },
      "execution_count": 111,
      "outputs": [
        {
          "output_type": "stream",
          "name": "stdout",
          "text": [
            "Model: \"sequential\"\n",
            "_________________________________________________________________\n",
            " Layer (type)                Output Shape              Param #   \n",
            "=================================================================\n",
            " embedding (Embedding)       (None, 100, 64)           320000    \n",
            "                                                                 \n",
            " bidirectional (Bidirection  (None, 100, 64)           24832     \n",
            " al)                                                             \n",
            "                                                                 \n",
            " bidirectional_1 (Bidirecti  (None, 64)                24832     \n",
            " onal)                                                           \n",
            "                                                                 \n",
            " batch_normalization (Batch  (None, 64)                256       \n",
            " Normalization)                                                  \n",
            "                                                                 \n",
            " dense (Dense)               (None, 32)                2080      \n",
            "                                                                 \n",
            " dropout (Dropout)           (None, 32)                0         \n",
            "                                                                 \n",
            " dense_1 (Dense)             (None, 1)                 33        \n",
            "                                                                 \n",
            "=================================================================\n",
            "Total params: 372033 (1.42 MB)\n",
            "Trainable params: 371905 (1.42 MB)\n",
            "Non-trainable params: 128 (512.00 Byte)\n",
            "_________________________________________________________________\n"
          ]
        }
      ]
    },
    {
      "cell_type": "code",
      "source": [
        "import numpy as np\n",
        "from tensorflow.keras.preprocessing.text import Tokenizer\n",
        "from tensorflow.keras.preprocessing.sequence import pad_sequences\n",
        "from sklearn.model_selection import train_test_split\n",
        "\n",
        "# 텍스트 데이터와 라벨 추출\n",
        "texts = data['posts'].values\n",
        "labels = data['type'].values\n",
        "\n",
        "# 텍스트 토큰화\n",
        "tokenizer = Tokenizer(num_words=5000)\n",
        "tokenizer.fit_on_texts(texts)\n",
        "sequences = tokenizer.texts_to_sequences(texts)\n",
        "\n",
        "\n",
        "# 패딩 적용\n",
        "maxlen = 100\n",
        "data1 = pad_sequences(sequences, maxlen=maxlen)\n",
        "\n",
        "# 라벨 인코딩 (T -> 0, F -> 1)\n",
        "label_dict = {'T': 0, 'F': 1}\n",
        "labels = np.array([label_dict[label] for label in labels])\n",
        "\n",
        "# 학습 및 테스트 데이터 분리\n",
        "X_train_seq, X_test_seq, y_train_seq, y_test_seq = train_test_split(data1, labels, test_size=0.2, random_state=42)"
      ],
      "metadata": {
        "id": "qpwrgUAJZFj1"
      },
      "execution_count": 86,
      "outputs": []
    },
    {
      "cell_type": "code",
      "source": [
        "X_train_seq1, X_val_seq, y_train_seq1, y_val_seq = train_test_split(X_train_seq, y_train_seq, test_size=0.2, random_state=42)\n",
        "\n",
        "history = lstm.fit(\n",
        "    X_train_seq, y_train_seq,\n",
        "    validation_data=(X_test_seq, y_test_seq),\n",
        "    epochs=5,\n",
        "    batch_size=32\n",
        ")"
      ],
      "metadata": {
        "colab": {
          "base_uri": "https://localhost:8080/"
        },
        "id": "D9wN-Q5_Bdfi",
        "outputId": "8d0a9258-188e-4928-b66c-207e2095355a"
      },
      "execution_count": 128,
      "outputs": [
        {
          "output_type": "stream",
          "name": "stdout",
          "text": [
            "Epoch 1/5\n",
            "3908/3908 [==============================] - 74s 19ms/step - loss: 0.0324 - accuracy: 0.9886 - val_loss: 0.8563 - val_accuracy: 0.8450\n",
            "Epoch 2/5\n",
            "3908/3908 [==============================] - 74s 19ms/step - loss: 0.0312 - accuracy: 0.9892 - val_loss: 0.8715 - val_accuracy: 0.8479\n",
            "Epoch 3/5\n",
            "3908/3908 [==============================] - 74s 19ms/step - loss: 0.0299 - accuracy: 0.9897 - val_loss: 0.8310 - val_accuracy: 0.8561\n",
            "Epoch 4/5\n",
            "3908/3908 [==============================] - 72s 19ms/step - loss: 0.0303 - accuracy: 0.9896 - val_loss: 0.8698 - val_accuracy: 0.8472\n",
            "Epoch 5/5\n",
            "3908/3908 [==============================] - 73s 19ms/step - loss: 0.0291 - accuracy: 0.9899 - val_loss: 0.8761 - val_accuracy: 0.8496\n"
          ]
        }
      ]
    },
    {
      "cell_type": "code",
      "source": [
        "lstm.evaluate(X_test_seq, y_test_seq)"
      ],
      "metadata": {
        "colab": {
          "base_uri": "https://localhost:8080/"
        },
        "id": "gw1upiifYDaX",
        "outputId": "7161eebc-5d0e-4d1d-db07-75896469943c"
      },
      "execution_count": 104,
      "outputs": [
        {
          "output_type": "stream",
          "name": "stdout",
          "text": [
            "977/977 [==============================] - 8s 8ms/step - loss: 0.7291 - accuracy: 0.8551\n"
          ]
        },
        {
          "output_type": "execute_result",
          "data": {
            "text/plain": [
              "[0.7290991544723511, 0.8550543785095215]"
            ]
          },
          "metadata": {},
          "execution_count": 104
        }
      ]
    },
    {
      "cell_type": "code",
      "source": [
        "lstm_pre = lstm.predict(X_test_seq)\n",
        "preds = (lstm_pre > 0.5).astype(int)\n",
        "\n",
        "classfication_report = classification_report(y_test_seq, preds, output_dict=True)\n",
        "print(classfication_report)"
      ],
      "metadata": {
        "colab": {
          "base_uri": "https://localhost:8080/"
        },
        "id": "ELz3kxVkXIfQ",
        "outputId": "0cf16e40-a64c-4a3c-d3a0-00a347cc7e5c"
      },
      "execution_count": null,
      "outputs": [
        {
          "output_type": "stream",
          "name": "stdout",
          "text": [
            "977/977 [==============================] - 8s 7ms/step\n",
            "{'0': {'precision': 0.9386247006500171, 'recall': 0.9454821145495899, 'f1-score': 0.9420409284438951, 'support': 14509}, '1': {'precision': 0.9524782216881946, 'recall': 0.9464509581517522, 'f1-score': 0.9494550245538388, 'support': 16751}, 'accuracy': 0.946001279590531, 'macro avg': {'precision': 0.9455514611691058, 'recall': 0.9459665363506711, 'f1-score': 0.945747976498867, 'support': 31260}, 'weighted avg': {'precision': 0.9460482557015369, 'recall': 0.946001279590531, 'f1-score': 0.9460138498750424, 'support': 31260}}\n"
          ]
        }
      ]
    },
    {
      "cell_type": "code",
      "source": [
        "import numpy as np\n",
        "import matplotlib.pyplot as plt\n",
        "from sklearn.svm import SVC\n",
        "from sklearn.metrics import roc_curve, roc_auc_score, auc\n",
        "from sklearn.model_selection import train_test_split\n",
        "from sklearn.datasets import load_iris\n",
        "from sklearn.preprocessing import label_binarize\n",
        "\n",
        "# ROC Curve\n",
        "fpr, tpr, _ = roc_curve(y_test_seq, lstm_pre.ravel())  # Extract probabilities from the single column\n",
        "roc_auc = auc(fpr, tpr)\n",
        "\n",
        "# ROC Curve 그리기\n",
        "plt.figure()\n",
        "plt.plot(fpr, tpr, color='darkorange', lw=2, label=f'ROC curve (area = {roc_auc:.2f})')\n",
        "plt.plot([0, 1], [0, 1], color='navy', lw=2, linestyle='--')\n",
        "plt.xlim([0.0, 1.0])\n",
        "plt.ylim([0.0, 1.05])\n",
        "plt.xlabel('False Positive Rate')\n",
        "plt.ylabel('True Positive Rate')\n",
        "plt.title('LSTM ROC curve')\n",
        "plt.legend(loc=\"lower right\")\n",
        "plt.show()\n"
      ],
      "metadata": {
        "colab": {
          "base_uri": "https://localhost:8080/",
          "height": 472
        },
        "id": "uAqA03xraxAb",
        "outputId": "8a331d0d-da11-40b9-f9ec-e3621ff722f7"
      },
      "execution_count": null,
      "outputs": [
        {
          "output_type": "display_data",
          "data": {
            "text/plain": [
              "<Figure size 640x480 with 1 Axes>"
            ],
            "image/png": "[encoded data removed]"
          },
          "metadata": {}
        }
      ]
    },
    {
      "cell_type": "code",
      "source": [
        "import seaborn as sns\n",
        "\n",
        "# 보고서를 데이터프레임으로 변환\n",
        "df_report = pd.DataFrame(classfication_report).transpose()\n",
        "\n",
        "# 히트맵 생성\n",
        "plt.figure(figsize=(10, 6))\n",
        "sns.heatmap(df_report.drop('support', axis=1), annot=True, cmap='Blues')\n",
        "plt.title('LSTM Heatmap')\n",
        "plt.show()"
      ],
      "metadata": {
        "colab": {
          "base_uri": "https://localhost:8080/",
          "height": 545
        },
        "id": "B37cerZSuJ1X",
        "outputId": "009f8e0d-d494-4035-b20f-449faf2d8cc9"
      },
      "execution_count": null,
      "outputs": [
        {
          "output_type": "display_data",
          "data": {
            "text/plain": [
              "<Figure size 1000x600 with 2 Axes>"
            ],
            "image/png": "[encoded data removed]"
          },
          "metadata": {}
        }
      ]
    },
    {
      "cell_type": "code",
      "source": [
        "# 새로운 문장에 대한 예측 함수\n",
        "def predict_mbti_type(new_sentence):\n",
        "    prediction_proba = svc_clf.predict_proba([new_sentence])\n",
        "    prediction = svc_clf.predict([new_sentence])\n",
        "    return prediction_proba, prediction\n",
        "\n",
        "# 새로운 문장 예측 예시\n",
        "k = \"I love programming and solving complex problems.\"\n",
        "# k = preprocess_sentence(k)\n",
        "predicted_type = predict_mbti_type(k)\n",
        "print(f'The predicted MBTI type for the new sentence is: {predicted_type}')"
      ],
      "metadata": {
        "colab": {
          "base_uri": "https://localhost:8080/"
        },
        "id": "iWcoM4PDr93U",
        "outputId": "478a9b78-8f9b-4731-8a3c-d2ccbd27ce6c"
      },
      "execution_count": null,
      "outputs": [
        {
          "output_type": "stream",
          "name": "stdout",
          "text": [
            "The predicted MBTI type for the new sentence is: (array([[0.19958042, 0.80041958]]), array(['T'], dtype=object))\n"
          ]
        }
      ]
    },
    {
      "cell_type": "code",
      "source": [
        "# 예측 함수\n",
        "def predict_mbti(text):\n",
        "    sequence = tokenizer.texts_to_sequences([text])\n",
        "    padded_sequence = pad_sequences(sequence, maxlen=maxlen)\n",
        "    prediction = lstm.predict(padded_sequence)\n",
        "    return prediction\n",
        "    # print(f'predic: {prediction}')\n",
        "    # return 'T' if prediction < 0.5 else 'F'\n",
        "\n",
        "# 예측 예시\n",
        "sample_text = \"I'm so sad\"\n",
        "predicted_type = predict_mbti(sample_text)\n",
        "print(f'Predicted MBTI type: {predicted_type}')"
      ],
      "metadata": {
        "colab": {
          "base_uri": "https://localhost:8080/"
        },
        "id": "HQOWu7-0HdhP",
        "outputId": "f3def699-c76c-47fa-d7fd-9756bb619cdc"
      },
      "execution_count": null,
      "outputs": [
        {
          "output_type": "stream",
          "name": "stdout",
          "text": [
            "1/1 [==============================] - 0s 42ms/step\n",
            "Predicted MBTI type: [[0.9659913]]\n"
          ]
        }
      ]
    },
    {
      "cell_type": "code",
      "source": [
        "# from sklearn.utils.extmath import softmax\n",
        "\n",
        "# record = []\n",
        "# record.append('내가 오늘은 기분이 좋아')\n",
        "# record.append('한국의 전통주은 쌀로 만들어집니다')\n",
        "# record.append('내일 만나서 얘기하자')\n",
        "# record.append('그랬구나, 많이 속상했구나')\n",
        "# record.append('얼어붙은 한강 위로 고양이가 걸어다닙니다')\n",
        "# record.append('배열에 상태공간을 추가해서 탐색할 수 있습니다')\n",
        "# record.append('나 지금 너무 힘들다')\n",
        "# record.append('기계학습이라는 과목은 평판이 나쁘다')\n",
        "# record.append('맞아 나도 기계학습이라는 과목은 너무 싫어')\n",
        "# record.append('중앙인증서버 공부나 하자')\n",
        "# record.append('저 자동차는 검은색이네')\n",
        "# record.append('마음이 너무 아파')\n",
        "\n",
        "\n",
        "# for i in record:\n",
        "#   print((i))\n",
        "#   k = Translator().translate(i, src='ko', dest='en').text\n",
        "#   print(k)\n",
        "\n",
        "#   k = preprocess_sentence(k)\n",
        "#   print(k)\n",
        "\n",
        "#   predict = predict_mbti_type(k)\n",
        "#   print(f\"predict_svm: {predict[0][0][0]}\")\n",
        "#   print(f\"svm mbti: {predict[1]}\")\n",
        "\n",
        "#   predict2 = predict_mbti(k)\n",
        "#   print(f\"predict_lstm: {predict2}\")\n",
        "#   predicted_type = 'T' if predict2 < 0.5 else 'F'\n",
        "#   print(f'lstm mbti: {predicted_type}')\n",
        "\n",
        "#   res = (predict2*0.3 + predict[0][0][0]*0.7)\n",
        "#   predicted_type = 'T' if res < 0.5 else 'F'\n",
        "#   print(f'res: {res}')\n",
        "#   print(f'res mbti: {predicted_type}')\n",
        "\n",
        "#   print()\n",
        "\n"
      ],
      "metadata": {
        "id": "DoHGD7My_wGQ"
      },
      "execution_count": 119,
      "outputs": []
    },
    {
      "cell_type": "code",
      "source": [
        "# # 대화 말 리스트\n",
        "# conversation = [\"새로운 프로젝트에 대해 어떤 방향으로 나아갈지 고민 중이야. 일단 현재 상황을 분석해 보고 싶어.\",\n",
        "#                 \"네, 그런데 사람들이 어떤 아이디어를 가지고 있는지도 중요할 것 같아. 함께 의논해보는 게 좋을 것 같아.\",\n",
        "#                 \"맞아, 현재 상황을 고려하면서 모든 가능성을 탐색하는 것이 중요할 거야. 그래서 사실과 데이터에 기반하여 결정을 내리는 게 좋을 것 같아.\",\n",
        "#                 \"네, 그런데 사람들의 감정도 중요하다고 생각해. 모든 가능성을 고려할 때 다른 사람들의 의견도 듣는 게 좋을 것 같아.\",\n",
        "#                 \"맞아, 타인의 의견을 듣는 것도 중요하지. 하지만 의사 결정에 있어서는 객관적인 데이터를 바탕으로 하는 게 좋을 거야.\",\n",
        "#                 \"그렇지만 때로는 감정에 기반한 결정도 필요할 때가 있어. 그렇지 않으면 사람들과의 관계가 손상될 수도 있잖아.\",\n",
        "#                 \"그렇긴 해도, 객관적인 판단이 더욱 중요하다고 생각해. 감정에 휘둘리지 않고 현실적인 해결책을 찾는 게 중요한 거야.\"]\n",
        "\n",
        "# # 각 대화에 대한 MBTI 유형 (T 또는 F)\n",
        "# mbti_types = ['T', 'F', 'T', 'F', 'T', 'F', 'T']\n",
        "\n",
        "# # 각 유형에 대한 정답 배열 생성\n",
        "# ans = [0 if mbti == 'T' else 1 for mbti in mbti_types]\n",
        "\n",
        "\n",
        "# cnt = 0\n",
        "# correct = 0\n",
        "# wrong = 0\n",
        "# x = 0\n",
        "\n",
        "# for i in conversation:\n",
        "#   print(cnt)\n",
        "#   print((i))\n",
        "#   k = Translator().translate(i, src='ko', dest='en').text\n",
        "#   print(k)\n",
        "\n",
        "#   k = preprocess_sentence(k)\n",
        "#   print(k)\n",
        "\n",
        "#   predict = predict_mbti_type(k)\n",
        "#   print(f\"predict_svm: {predict[0][0][0]}\")\n",
        "#   print(f\"svm mbti: {predict[1]}\")\n",
        "\n",
        "#   predict2 = predict_mbti(k)\n",
        "#   print(f\"predict_lstm: {predict2}\")\n",
        "#   predicted_type = 'T' if predict2 < 0.5 else 'F'\n",
        "#   print(f'lstm mbti: {predicted_type}')\n",
        "\n",
        "#   res = (predict2*0.339 + predict[0][0][0]*0.671)\n",
        "#   predicted_type = 'T' if res < 0.5 else 'F'\n",
        "#   print(f'res: {res}')\n",
        "#   print(f'res mbti: {predicted_type}')\n",
        "\n",
        "#   # a = 'T'\n",
        "#   # if ans[cnt] == 1:\n",
        "#   #   a = 'F'\n",
        "\n",
        "#   # if ans[cnt] == -1:\n",
        "#   #   cnt+=1\n",
        "#   #   x+=1\n",
        "#   #   continue\n",
        "\n",
        "#   if mbti_types[cnt] == predicted_type:\n",
        "#     correct += 1\n",
        "#   else:\n",
        "#     wrong += 1\n",
        "#     print(\"ddddddddddddd\")\n",
        "\n",
        "\n",
        "#   cnt += 1\n",
        "\n",
        "#   # predicted_type = 'T' if predict < 0.5 else 'F'\n",
        "#   # print(f'Predicted MBTI type: {predicted_type}')\n",
        "#   print()\n",
        "\n",
        "# print(f\"cnt:{cnt}\")\n",
        "# print(f\"correct:{correct}\")\n",
        "# print(f\"wrong:{wrong}\")\n",
        "# print(f\"x:{x}\")\n",
        "\n",
        "# print(f\"accuracy: {correct/(cnt - x)}\")"
      ],
      "metadata": {
        "id": "GTZHa6Wj5M0e"
      },
      "execution_count": null,
      "outputs": []
    },
    {
      "cell_type": "code",
      "source": [
        "ans = []\n",
        "ans.append('F')\n",
        "ans.append('T')\n",
        "ans.append('F')\n",
        "ans.append('T')\n",
        "ans.append('T')\n",
        "ans.append('F')\n",
        "\n",
        "conversation = [\n",
        "    \"야 넌 진짜 슬픔을 나누면 두 개가 된다고 생각해?\",\n",
        "    \"응, 애초에 누구한테 상담 해서 없어질 슬픔이면 그건 슬픔이 아냐\",\n",
        "    \"너 그러면 내 고민 상담해줄 때도 그렇게 생각했어?\",\n",
        "    \"응, 그래서 해결해주려고 엄청 열심히 말해줬잖아\",\n",
        "    \"그치! 해결해줘서 슬픔 없애줘야지\",\n",
        "    \"야 해결 이런 게 중요한 게 아니라 공감, 위로 이런 걸 나는 거야!\",\n",
        "]\n",
        "\n",
        "# 대화 추가\n",
        "conversation.append(\"얘도 이 말 하네, 내 여자친구랑 이 말도 똑같이 한다\")\n",
        "ans.append('T')\n",
        "conversation.append(\"왜\")\n",
        "ans.append('T')\n",
        "conversation.append(\"아니 내 여자친구가 얼마 전에 아팠거든? 근데 나한테 자기 아프다고 좀 와주면 안되냐고 그러는 거야\")\n",
        "ans.append('T')\n",
        "conversation.append(\"아니 근데 내가 간다고 병이 낫는 게 아니잖아. 그러니까 '자기 병원 갔다가 와서 집에서 쉬어라' 이랬거든\")\n",
        "ans.append('T')\n",
        "conversation.append(\"너 여자친구한테 진짜 그렇게 말했어?\")\n",
        "ans.append('F')\n",
        "conversation.append(\"그게 왜?\")\n",
        "ans.append('T')\n",
        "conversation.append(\"너 여자친구가 뭐라 안 해?\")\n",
        "ans.append('F')\n",
        "conversation.append(\"니랑 반응 똑같다니까? 근데 내가 가면 걔가 괜히 신경 쓰이고, 야 아플 때 그냥 혼자 쉬는 게 낫잖아?\")\n",
        "ans.append('T')\n",
        "conversation.append(\"그치 아프면 약 먹고 빨리 자야지\")\n",
        "ans.append('T')\n",
        "conversation.append(\"아니지! 진짜! 바로 가야지!\")\n",
        "ans.append('F')\n",
        "conversation.append(\"니가 가서 뭐 할 건데?\")\n",
        "ans.append('T')\n",
        "conversation.append(\"아 뭘 뭐 해 아프다니까 위로도 좀 해주고\")\n",
        "ans.append('F')\n",
        "conversation.append(\"그리고?\")\n",
        "ans.append('T')\n",
        "conversation.append(\"아 간호도 해주고\")\n",
        "ans.append('F')\n",
        "conversation.append(\"어떻게 간호해 줄 건데?\")\n",
        "ans.append('T')\n",
        "conversation.append(\"뭐 그냥 열난다고 하면 수건으로 이렇게 좀 해주고\")\n",
        "ans.append('F')\n",
        "conversation.append(\"그랬는데 병이 안 나으면 어떡할 건데?\")\n",
        "ans.append('T')\n",
        "conversation.append(\"아 뭐 그러면 병원을 가야지\")\n",
        "ans.append('F')\n",
        "conversation.append(\"그러니까 결국엔 병원을 간다니까? 니가 가서 병원 가는 시간이 늦어질 뿐이야\")\n",
        "ans.append('T')\n",
        "conversation.append(\"아니야! 야 그게 중요한 게 아니라니까\")\n",
        "ans.append('F')\n",
        "conversation.append(\"내가 가잖아? 그럼 여자친구가 나를 신경 쓰느라 제대로 못 쉴 거 아니야 \")\n",
        "ans.append('T')\n",
        "conversation.append(\"그치 빨리 낫고 다음에 만나서 재밌게 노는 게 낫지\")\n",
        "ans.append('T')\n",
        "conversation.append(\"어 그러니까 우리가 막 사랑하지 않아서 이런 말을 하고 이런 게 아니라니까?\")\n",
        "ans.append('T')\n",
        "conversation.append(\"아니야 난 진짜 이해가 안 가. 난 진짜 이해가 안 가\")\n",
        "ans.append('F')\n",
        "conversation.append(\"야 그러면은 누가 너보고 '달 보니까 너 생각이 나서 연락했어' 이러면 너는 뭐라 그럴 거 같아?\")\n",
        "ans.append('T')\n",
        "conversation.append(\"어디야? 이러고 바로 가야지\")\n",
        "ans.append('F')\n",
        "conversation.append(\"뭘 어딜 간대 자꾸\")\n",
        "ans.append('T')\n",
        "conversation.append(\"너는 뭐라 그럴래?\")\n",
        "ans.append('T')\n",
        "conversation.append(\"왜?\")\n",
        "ans.append('T')\n",
        "conversation.append(\"그놈의 왜 좀!\")\n",
        "ans.append('F')\n",
        "conversation.append(\"왜?\")\n",
        "ans.append('T')\n",
        "conversation.append(\"야 내가 만약에 달보고 너 생각이 났어 이렇게 보냈는데 너처럼 '왜?' 이러지? 나 그럼 너 같은 사람 절대 못 만나\")\n",
        "ans.append('F')\n",
        "conversation.append(\"왜? 아니 나는 달이랑 나랑 관련된 뭔가가 있는지 궁금해서 물어보는 거야\")\n",
        "ans.append('T')\n",
        "conversation.append(\"아니 그게 왜 궁금해 야! 그게 달이든 해든 별이든 네 생각이 났어 이게 중요한 거라니까!\")\n",
        "ans.append('F')\n",
        "conversation.append(\"음, 닌 뭐라 할 건데?\")\n",
        "ans.append('T')\n",
        "conversation.append(\"나? 누가 달보고 내 생각났다 그러면?\")\n",
        "ans.append('T')\n",
        "conversation.append(\"너도 왜라고 하기만 해 봐\")\n",
        "ans.append('F')\n",
        "conversation.append(\"내가 뭐 닐 암스트롱이면 좀 고마울 수 있겠지\")\n",
        "ans.append('T')\n",
        "conversation.append(\"그럴 수도 있겠다\")\n",
        "ans.append('T')\n",
        "conversation.append(\"아 뭔 소리야! 암스트롱이 왜 나와!\")\n",
        "ans.append('F')\n",
        "conversation.append(\"그게 아니고서는 달 보고 내 생각날 이유가 뭐야?\")\n",
        "ans.append('T')\n",
        "conversation.append(\"아니 그 이유가 왜 중요하냐고! 그 순간에! 어 그 감정에! 그 분위기에! 그 때 딱 니 생각이 난 게 그게 중요한거지\")\n",
        "ans.append('F')\n",
        "\n",
        "\n",
        "\n",
        "\n",
        "\n",
        "\n"
      ],
      "metadata": {
        "id": "HFMl1_TfC-CT"
      },
      "execution_count": 108,
      "outputs": []
    },
    {
      "cell_type": "code",
      "source": [
        "conversation = [\n",
        "    \"Do you really think that sharing sadness makes it two?\",\n",
        "    \"Yeah, if it's a sadness that can be solved by talking to someone, then it's not real sadness.\",\n",
        "    \"So when you listened to my worries, did you think that too?\",\n",
        "    \"Yeah, that's why I tried so hard to solve it for you.\",\n",
        "    \"Right! Solving it makes the sadness go away.\",\n",
        "    \"Hey, what's important isn't solving it, but empathy and comfort!\",\n",
        "    \"You also say that? My girlfriend says the same thing.\",\n",
        "    \"Why?\",\n",
        "    \"No, my girlfriend was sick recently, and she asked me to come over because she was feeling unwell.\",\n",
        "    \"But I told her, 'Going there won't cure your illness. Just go to the hospital and rest at home.'\",\n",
        "    \"Did you really say that to your girlfriend?\",\n",
        "    \"Why?\",\n",
        "    \"Didn't your girlfriend say anything?\",\n",
        "    \"She reacted the same as you. But if I go, she will just worry about me, and it's better to rest alone when you're sick.\",\n",
        "    \"Right, you should take medicine and sleep when you're sick.\",\n",
        "    \"No! You should go right away!\",\n",
        "    \"What are you going to do if you go?\",\n",
        "    \"What do you mean? Comfort her since she's sick.\",\n",
        "    \"And?\",\n",
        "    \"And take care of her.\",\n",
        "    \"How are you going to take care of her?\",\n",
        "    \"Well, if she has a fever, I'll use a towel to cool her down.\",\n",
        "    \"What if she doesn't get better?\",\n",
        "    \"Then we'll have to go to the hospital.\",\n",
        "    \"That's what I mean! Eventually, she'll go to the hospital anyway. You just delay the time by going.\",\n",
        "    \"No! That's not what's important!\",\n",
        "    \"If I go, my girlfriend will worry about me and can't rest properly.\",\n",
        "    \"Right, it's better to recover quickly and then have fun together later.\",\n",
        "    \"Exactly, it's not that we don't love each other.\",\n",
        "    \"No, I really don't understand. I really don't get it.\",\n",
        "    \"Then what would you say if someone told you, 'I thought of you while looking at the moon'?\",\n",
        "    \"I would ask, Where are you? and go right away.\",\n",
        "    \"Why do you always want to go somewhere?\",\n",
        "    \"What would you say if someone told you they thought of you while looking at the moon?\",\n",
        "    \"Why?\",\n",
        "    \"Why do you keep asking why?\",\n",
        "    \"Why?\",\n",
        "    \"If I sent you a message saying I thought of you while looking at the moon and you replied, 'Why?', I could never date someone like you.\",\n",
        "    \"Why? I just want to know if there's something related to the moon and me.\",\n",
        "    \"Why does that matter? The important thing is that they thought of you in that moment!\",\n",
        "    \"Hmm, what would you say?\",\n",
        "    \"Me? If someone told me they thought of me while looking at the moon?\",\n",
        "    \"Don't you dare say 'Why' again.\",\n",
        "    \"If I were astronaut, I'd be grateful.\",\n",
        "    \"That makes sense.\",\n",
        "    \"What are you talking about? Why bring up astronaut?\",\n",
        "    \"Unless there's a reason, why would they think of me while looking at the moon?\",\n",
        "    \"Why does the reason matter? The moment, the feeling, the atmosphere, and thinking of you at that time is what's important.\"\n",
        "]\n"
      ],
      "metadata": {
        "id": "9-N3YjnUS4DQ"
      },
      "execution_count": 109,
      "outputs": []
    },
    {
      "cell_type": "code",
      "source": [
        "\n",
        "cnt = 0\n",
        "correct = 0\n",
        "wrong = 0\n",
        "x = 0\n",
        "\n",
        "sw = 0\n",
        "\n",
        "for i in conversation:\n",
        "  print(cnt)\n",
        "  print((i))\n",
        "  # k = Translator().translate(i, src='ko', dest='en').text\n",
        "  # print(k)\n",
        "\n",
        "  k = i\n",
        "\n",
        "  k = preprocess_sentence(k)\n",
        "  print(k)\n",
        "\n",
        "  # predict = predict_mbti_type(k)\n",
        "  # print(f\"predict_svm: {predict[0][0][0]}\")\n",
        "  # print(f\"svm mbti: {predict[1]}\")\n",
        "  # q = predicted_type1 = predict[1]\n",
        "\n",
        "  predict2 = predict_mbti(k)\n",
        "  print(f\"predict_lstm: {predict2}\")\n",
        "  q = predicted_type2 = 'T' if predict2 < 0.5 else 'F'\n",
        "  print(f'lstm mbti: {predicted_type2}')\n",
        "\n",
        "  # res = (predict2*0.4 + predict[0][0][0]*0.6)\n",
        "  # q = predicted_type3 = 'T' if res < 0.5 else 'F'\n",
        "  # print(f'res: {res}')\n",
        "  # print(f'res mbti: {predicted_type3}')\n",
        "\n",
        "  # a = 'T'\n",
        "  # if ans[cnt] == 1:\n",
        "  #   a = 'F'\n",
        "\n",
        "  # if ans[cnt] == -1:\n",
        "  #   cnt+=1\n",
        "  #   x+=1\n",
        "  #   continue\n",
        "\n",
        "  print(ans[cnt])\n",
        "\n",
        "  if ans[cnt] == q:\n",
        "    correct += 1\n",
        "  else:\n",
        "    wrong += 1\n",
        "    print(\"ddddddddddddd\")\n",
        "    # if predicted_type1 == predicted_type2:\n",
        "    #   sw += 1\n",
        "\n",
        "\n",
        "  cnt += 1\n",
        "\n",
        "  # predicted_type = 'T' if predict < 0.5 else 'F'\n",
        "  # print(f'Predicted MBTI type: {predicted_type}')\n",
        "  print()\n",
        "\n",
        "print(f\"cnt:{cnt}\")\n",
        "print(f\"correct:{correct}\")\n",
        "print(f\"wrong:{wrong}\")\n",
        "print(f\"x:{x}\")\n",
        "print(f\"sw:{sw}\")\n",
        "\n",
        "print(f\"accuracy: {correct/(cnt - x)}\")"
      ],
      "metadata": {
        "colab": {
          "base_uri": "https://localhost:8080/"
        },
        "id": "FFKsGAAAOyZd",
        "outputId": "a39f0fbe-80b9-4de1-f0da-6305e1a7971c"
      },
      "execution_count": 129,
      "outputs": [
        {
          "output_type": "stream",
          "name": "stdout",
          "text": [
            "0\n",
            "Do you really think that sharing sadness makes it two?\n",
            "really think sharing sadness makes two\n",
            "1/1 [==============================] - 0s 21ms/step\n",
            "predict_lstm: [[0.0043435]]\n",
            "lstm mbti: T\n",
            "F\n",
            "ddddddddddddd\n",
            "\n",
            "1\n",
            "Yeah, if it's a sadness that can be solved by talking to someone, then it's not real sadness.\n",
            "yeah sadness solved talking someone real sadness\n",
            "1/1 [==============================] - 0s 23ms/step\n",
            "predict_lstm: [[0.90732783]]\n",
            "lstm mbti: F\n",
            "T\n",
            "ddddddddddddd\n",
            "\n",
            "2\n",
            "So when you listened to my worries, did you think that too?\n",
            "listened worries think\n",
            "1/1 [==============================] - 0s 22ms/step\n",
            "predict_lstm: [[0.9981201]]\n",
            "lstm mbti: F\n",
            "F\n",
            "\n",
            "3\n",
            "Yeah, that's why I tried so hard to solve it for you.\n",
            "yeah tried hard solve\n",
            "1/1 [==============================] - 0s 22ms/step\n",
            "predict_lstm: [[0.00508861]]\n",
            "lstm mbti: T\n",
            "T\n",
            "\n",
            "4\n",
            "Right! Solving it makes the sadness go away.\n",
            "right solving makes sadness go away\n",
            "1/1 [==============================] - 0s 22ms/step\n",
            "predict_lstm: [[0.00092906]]\n",
            "lstm mbti: T\n",
            "T\n",
            "\n",
            "5\n",
            "Hey, what's important isn't solving it, but empathy and comfort!\n",
            "hey important solving empathy comfort\n",
            "1/1 [==============================] - 0s 22ms/step\n",
            "predict_lstm: [[2.6997788e-05]]\n",
            "lstm mbti: T\n",
            "F\n",
            "ddddddddddddd\n",
            "\n",
            "6\n",
            "You also say that? My girlfriend says the same thing.\n",
            "also say girlfriend says thing\n",
            "1/1 [==============================] - 0s 21ms/step\n",
            "predict_lstm: [[0.9827556]]\n",
            "lstm mbti: F\n",
            "T\n",
            "ddddddddddddd\n",
            "\n",
            "7\n",
            "Why?\n",
            "\n",
            "1/1 [==============================] - 0s 21ms/step\n",
            "predict_lstm: [[0.9993667]]\n",
            "lstm mbti: F\n",
            "T\n",
            "ddddddddddddd\n",
            "\n",
            "8\n",
            "No, my girlfriend was sick recently, and she asked me to come over because she was feeling unwell.\n",
            "girlfriend sick recently asked come feeling unwell\n",
            "1/1 [==============================] - 0s 20ms/step\n",
            "predict_lstm: [[0.00032627]]\n",
            "lstm mbti: T\n",
            "T\n",
            "\n",
            "9\n",
            "But I told her, 'Going there won't cure your illness. Just go to the hospital and rest at home.'\n",
            "told going cure illness go hospital rest home\n",
            "1/1 [==============================] - 0s 21ms/step\n",
            "predict_lstm: [[7.848206e-07]]\n",
            "lstm mbti: T\n",
            "T\n",
            "\n",
            "10\n",
            "Did you really say that to your girlfriend?\n",
            "really say girlfriend\n",
            "1/1 [==============================] - 0s 22ms/step\n",
            "predict_lstm: [[0.73558414]]\n",
            "lstm mbti: F\n",
            "F\n",
            "\n",
            "11\n",
            "Why?\n",
            "\n",
            "1/1 [==============================] - 0s 21ms/step\n",
            "predict_lstm: [[0.9993667]]\n",
            "lstm mbti: F\n",
            "T\n",
            "ddddddddddddd\n",
            "\n",
            "12\n",
            "Didn't your girlfriend say anything?\n",
            "girlfriend say anything\n",
            "1/1 [==============================] - 0s 21ms/step\n",
            "predict_lstm: [[0.81824297]]\n",
            "lstm mbti: F\n",
            "F\n",
            "\n",
            "13\n",
            "She reacted the same as you. But if I go, she will just worry about me, and it's better to rest alone when you're sick.\n",
            "reacted go worry better rest alone sick\n",
            "1/1 [==============================] - 0s 21ms/step\n",
            "predict_lstm: [[0.09063436]]\n",
            "lstm mbti: T\n",
            "T\n",
            "\n",
            "14\n",
            "Right, you should take medicine and sleep when you're sick.\n",
            "right take medicine sleep sick\n",
            "1/1 [==============================] - 0s 21ms/step\n",
            "predict_lstm: [[0.9964001]]\n",
            "lstm mbti: F\n",
            "T\n",
            "ddddddddddddd\n",
            "\n",
            "15\n",
            "No! You should go right away!\n",
            "go right away\n",
            "1/1 [==============================] - 0s 21ms/step\n",
            "predict_lstm: [[0.42031989]]\n",
            "lstm mbti: T\n",
            "F\n",
            "ddddddddddddd\n",
            "\n",
            "16\n",
            "What are you going to do if you go?\n",
            "going go\n",
            "1/1 [==============================] - 0s 22ms/step\n",
            "predict_lstm: [[0.34968743]]\n",
            "lstm mbti: T\n",
            "T\n",
            "\n",
            "17\n",
            "What do you mean? Comfort her since she's sick.\n",
            "mean comfort since sick\n",
            "1/1 [==============================] - 0s 27ms/step\n",
            "predict_lstm: [[0.34506503]]\n",
            "lstm mbti: T\n",
            "F\n",
            "ddddddddddddd\n",
            "\n",
            "18\n",
            "And?\n",
            "\n",
            "1/1 [==============================] - 0s 23ms/step\n",
            "predict_lstm: [[0.9993667]]\n",
            "lstm mbti: F\n",
            "T\n",
            "ddddddddddddd\n",
            "\n",
            "19\n",
            "And take care of her.\n",
            "take care\n",
            "1/1 [==============================] - 0s 23ms/step\n",
            "predict_lstm: [[0.9965551]]\n",
            "lstm mbti: F\n",
            "F\n",
            "\n",
            "20\n",
            "How are you going to take care of her?\n",
            "going take care\n",
            "1/1 [==============================] - 0s 23ms/step\n",
            "predict_lstm: [[0.18264629]]\n",
            "lstm mbti: T\n",
            "T\n",
            "\n",
            "21\n",
            "Well, if she has a fever, I'll use a towel to cool her down.\n",
            "well fever use towel cool\n",
            "1/1 [==============================] - 0s 22ms/step\n",
            "predict_lstm: [[0.86538893]]\n",
            "lstm mbti: F\n",
            "F\n",
            "\n",
            "22\n",
            "What if she doesn't get better?\n",
            "get better\n",
            "1/1 [==============================] - 0s 22ms/step\n",
            "predict_lstm: [[0.98959535]]\n",
            "lstm mbti: F\n",
            "T\n",
            "ddddddddddddd\n",
            "\n",
            "23\n",
            "Then we'll have to go to the hospital.\n",
            "go hospital\n",
            "1/1 [==============================] - 0s 24ms/step\n",
            "predict_lstm: [[0.01765108]]\n",
            "lstm mbti: T\n",
            "F\n",
            "ddddddddddddd\n",
            "\n",
            "24\n",
            "That's what I mean! Eventually, she'll go to the hospital anyway. You just delay the time by going.\n",
            "mean eventually go hospital anyway delay time going\n",
            "1/1 [==============================] - 0s 22ms/step\n",
            "predict_lstm: [[1.1977702e-05]]\n",
            "lstm mbti: T\n",
            "T\n",
            "\n",
            "25\n",
            "No! That's not what's important!\n",
            "important\n",
            "1/1 [==============================] - 0s 21ms/step\n",
            "predict_lstm: [[0.9967781]]\n",
            "lstm mbti: F\n",
            "F\n",
            "\n",
            "26\n",
            "If I go, my girlfriend will worry about me and can't rest properly.\n",
            "go girlfriend worry cannot rest properly\n",
            "1/1 [==============================] - 0s 22ms/step\n",
            "predict_lstm: [[5.4886183e-05]]\n",
            "lstm mbti: T\n",
            "T\n",
            "\n",
            "27\n",
            "Right, it's better to recover quickly and then have fun together later.\n",
            "right better recover quickly fun together later\n",
            "1/1 [==============================] - 0s 25ms/step\n",
            "predict_lstm: [[0.8081115]]\n",
            "lstm mbti: F\n",
            "T\n",
            "ddddddddddddd\n",
            "\n",
            "28\n",
            "Exactly, it's not that we don't love each other.\n",
            "exactly love\n",
            "1/1 [==============================] - 0s 23ms/step\n",
            "predict_lstm: [[0.7372996]]\n",
            "lstm mbti: F\n",
            "T\n",
            "ddddddddddddd\n",
            "\n",
            "29\n",
            "No, I really don't understand. I really don't get it.\n",
            "really understand really get\n",
            "1/1 [==============================] - 0s 25ms/step\n",
            "predict_lstm: [[0.05761558]]\n",
            "lstm mbti: T\n",
            "F\n",
            "ddddddddddddd\n",
            "\n",
            "30\n",
            "Then what would you say if someone told you, 'I thought of you while looking at the moon'?\n",
            "would say someone told thought looking moon\n",
            "1/1 [==============================] - 0s 23ms/step\n",
            "predict_lstm: [[0.9854113]]\n",
            "lstm mbti: F\n",
            "T\n",
            "ddddddddddddd\n",
            "\n",
            "31\n",
            "I would ask, Where are you? and go right away.\n",
            "would ask go right away\n",
            "1/1 [==============================] - 0s 22ms/step\n",
            "predict_lstm: [[0.07115071]]\n",
            "lstm mbti: T\n",
            "F\n",
            "ddddddddddddd\n",
            "\n",
            "32\n",
            "Why do you always want to go somewhere?\n",
            "always want go somewhere\n",
            "1/1 [==============================] - 0s 21ms/step\n",
            "predict_lstm: [[0.5908921]]\n",
            "lstm mbti: F\n",
            "T\n",
            "ddddddddddddd\n",
            "\n",
            "33\n",
            "What would you say if someone told you they thought of you while looking at the moon?\n",
            "would say someone told thought looking moon\n",
            "1/1 [==============================] - 0s 23ms/step\n",
            "predict_lstm: [[0.9854113]]\n",
            "lstm mbti: F\n",
            "T\n",
            "ddddddddddddd\n",
            "\n",
            "34\n",
            "Why?\n",
            "\n",
            "1/1 [==============================] - 0s 23ms/step\n",
            "predict_lstm: [[0.9993667]]\n",
            "lstm mbti: F\n",
            "T\n",
            "ddddddddddddd\n",
            "\n",
            "35\n",
            "Why do you keep asking why?\n",
            "keep asking\n",
            "1/1 [==============================] - 0s 23ms/step\n",
            "predict_lstm: [[0.9999435]]\n",
            "lstm mbti: F\n",
            "F\n",
            "\n",
            "36\n",
            "Why?\n",
            "\n",
            "1/1 [==============================] - 0s 22ms/step\n",
            "predict_lstm: [[0.9993667]]\n",
            "lstm mbti: F\n",
            "T\n",
            "ddddddddddddd\n",
            "\n",
            "37\n",
            "If I sent you a message saying I thought of you while looking at the moon and you replied, 'Why?', I could never date someone like you.\n",
            "sent message saying thought looking moon replied could never date someone like\n",
            "1/1 [==============================] - 0s 22ms/step\n",
            "predict_lstm: [[0.9973406]]\n",
            "lstm mbti: F\n",
            "F\n",
            "\n",
            "38\n",
            "Why? I just want to know if there's something related to the moon and me.\n",
            "want know something related moon\n",
            "1/1 [==============================] - 0s 23ms/step\n",
            "predict_lstm: [[0.96228194]]\n",
            "lstm mbti: F\n",
            "T\n",
            "ddddddddddddd\n",
            "\n",
            "39\n",
            "Why does that matter? The important thing is that they thought of you in that moment!\n",
            "matter important thing thought moment\n",
            "1/1 [==============================] - 0s 24ms/step\n",
            "predict_lstm: [[0.18821041]]\n",
            "lstm mbti: T\n",
            "F\n",
            "ddddddddddddd\n",
            "\n",
            "40\n",
            "Hmm, what would you say?\n",
            "hmm would say\n",
            "1/1 [==============================] - 0s 28ms/step\n",
            "predict_lstm: [[0.0388208]]\n",
            "lstm mbti: T\n",
            "T\n",
            "\n",
            "41\n",
            "Me? If someone told me they thought of me while looking at the moon?\n",
            "someone told thought looking moon\n",
            "1/1 [==============================] - 0s 25ms/step\n",
            "predict_lstm: [[0.99187475]]\n",
            "lstm mbti: F\n",
            "T\n",
            "ddddddddddddd\n",
            "\n",
            "42\n",
            "Don't you dare say 'Why' again.\n",
            "dare say\n",
            "1/1 [==============================] - 0s 25ms/step\n",
            "predict_lstm: [[0.9983296]]\n",
            "lstm mbti: F\n",
            "F\n",
            "\n",
            "43\n",
            "If I were astronaut, I'd be grateful.\n",
            "astronaut would grateful\n",
            "1/1 [==============================] - 0s 25ms/step\n",
            "predict_lstm: [[0.98670167]]\n",
            "lstm mbti: F\n",
            "T\n",
            "ddddddddddddd\n",
            "\n",
            "44\n",
            "That makes sense.\n",
            "makes sense\n",
            "1/1 [==============================] - 0s 31ms/step\n",
            "predict_lstm: [[0.98987705]]\n",
            "lstm mbti: F\n",
            "T\n",
            "ddddddddddddd\n",
            "\n",
            "45\n",
            "What are you talking about? Why bring up astronaut?\n",
            "talking bring astronaut\n",
            "1/1 [==============================] - 0s 30ms/step\n",
            "predict_lstm: [[0.00840603]]\n",
            "lstm mbti: T\n",
            "F\n",
            "ddddddddddddd\n",
            "\n",
            "46\n",
            "Unless there's a reason, why would they think of me while looking at the moon?\n",
            "unless reason would think looking moon\n",
            "1/1 [==============================] - 0s 25ms/step\n",
            "predict_lstm: [[0.8838746]]\n",
            "lstm mbti: F\n",
            "T\n",
            "ddddddddddddd\n",
            "\n",
            "47\n",
            "Why does the reason matter? The moment, the feeling, the atmosphere, and thinking of you at that time is what's important.\n",
            "reason matter moment feeling atmosphere thinking time important\n",
            "1/1 [==============================] - 0s 25ms/step\n",
            "predict_lstm: [[0.41919857]]\n",
            "lstm mbti: T\n",
            "F\n",
            "ddddddddddddd\n",
            "\n",
            "cnt:48\n",
            "correct:19\n",
            "wrong:29\n",
            "x:0\n",
            "sw:0\n",
            "accuracy: 0.3958333333333333\n"
          ]
        }
      ]
    },
    {
      "cell_type": "code",
      "source": [
        "import torch\n",
        "torch.device('cuda' if torch.cuda.is_available() else 'cpu')"
      ],
      "metadata": {
        "colab": {
          "base_uri": "https://localhost:8080/"
        },
        "id": "nCH78Le1vkUH",
        "outputId": "07ecd9ee-e70f-4f61-d5d8-14b2a4252cc5"
      },
      "execution_count": null,
      "outputs": [
        {
          "output_type": "execute_result",
          "data": {
            "text/plain": [
              "device(type='cuda')"
            ]
          },
          "metadata": {},
          "execution_count": 38
        }
      ]
    },
    {
      "cell_type": "code",
      "source": [
        "\n",
        "\n",
        "# # 모델 로드 (구조와 가중치 함께 로드)\n",
        "# model = torch.load('/content/drive/MyDrive/pytorch_model.bin').cuda()\n",
        "# model.eval()\n"
      ],
      "metadata": {
        "id": "wCflT0OVu64C"
      },
      "execution_count": 130,
      "outputs": []
    },
    {
      "cell_type": "code",
      "source": [
        "# sound = stt_func(\"/content/videoplayback.weba\")"
      ],
      "metadata": {
        "id": "9h1huOPiXca_"
      },
      "execution_count": null,
      "outputs": []
    },
    {
      "cell_type": "code",
      "source": [
        "# for i in sound:\n",
        "#   print(i)"
      ],
      "metadata": {
        "id": "iPN5bgy5dda1"
      },
      "execution_count": null,
      "outputs": []
    },
    {
      "cell_type": "code",
      "source": [
        "# ans = [1,0,-1,1,0,-1,1,1,1,0,-1,1,-1,0,-1,1,0,1,1,0,-1,1,0,-1]\n",
        "\n",
        "# cnt = 0\n",
        "# correct = 0\n",
        "# wrong = 0\n",
        "# x = 0\n",
        "\n",
        "# for i in sound:\n",
        "#   print((i))\n",
        "#   k = Translator().translate(i, src='ko', dest='en').text\n",
        "#   print(k)\n",
        "\n",
        "#   k = preprocess_sentence(k)\n",
        "#   print(k)\n",
        "\n",
        "#   predict = predict_mbti_type(k)\n",
        "#   print(f\"predict_svm: {predict[0][0][0]}\")\n",
        "#   print(f\"mbti: {predict[1]}\")\n",
        "\n",
        "#   a = 'T'\n",
        "#   if ans[cnt] == 1:\n",
        "#     a = 'F'\n",
        "\n",
        "#   if ans[cnt] == -1:\n",
        "#     cnt+=1\n",
        "#     x+=1\n",
        "#     continue\n",
        "\n",
        "#   if a == predict[1]:\n",
        "#     correct += 1\n",
        "#   else:\n",
        "#     wrong += 1\n",
        "\n",
        "#   cnt += 1\n",
        "\n",
        "#   # predicted_type = 'T' if predict < 0.5 else 'F'\n",
        "#   # print(f'Predicted MBTI type: {predicted_type}')\n",
        "#   print()\n",
        "\n",
        "# print(f\"cnt:{cnt}\")\n",
        "# print(f\"correct:{correct}\")\n",
        "# print(f\"wrong:{wrong}\")\n",
        "# print(f\"x:{x}\")\n",
        "\n",
        "# print(f\"accuracy: {correct/(cnt - x)}\")"
      ],
      "metadata": {
        "id": "laS8JvtYja9h"
      },
      "execution_count": null,
      "outputs": []
    },
    {
      "cell_type": "code",
      "source": [
        "!pip install visualkeras"
      ],
      "metadata": {
        "id": "kjp9eDOOpvC0",
        "outputId": "662b18a4-2f9c-4b41-9a15-4890e2f09564",
        "colab": {
          "base_uri": "https://localhost:8080/"
        }
      },
      "execution_count": 132,
      "outputs": [
        {
          "output_type": "stream",
          "name": "stdout",
          "text": [
            "Collecting visualkeras\n",
            "  Downloading visualkeras-0.0.2-py3-none-any.whl (12 kB)\n",
            "Requirement already satisfied: pillow>=6.2.0 in /usr/local/lib/python3.10/dist-packages (from visualkeras) (9.4.0)\n",
            "Requirement already satisfied: numpy>=1.18.1 in /usr/local/lib/python3.10/dist-packages (from visualkeras) (1.25.2)\n",
            "Collecting aggdraw>=1.3.11 (from visualkeras)\n",
            "  Downloading aggdraw-1.3.18.post0-cp310-cp310-manylinux_2_17_x86_64.manylinux2014_x86_64.whl (993 kB)\n",
            "\u001b[2K     \u001b[90m━━━━━━━━━━━━━━━━━━━━━━━━━━━━━━━━━━━━━━━━\u001b[0m \u001b[32m993.8/993.8 kB\u001b[0m \u001b[31m22.0 MB/s\u001b[0m eta \u001b[36m0:00:00\u001b[0m\n",
            "\u001b[?25hInstalling collected packages: aggdraw, visualkeras\n",
            "Successfully installed aggdraw-1.3.18.post0 visualkeras-0.0.2\n"
          ]
        }
      ]
    },
    {
      "cell_type": "code",
      "source": [
        "lstm.summary()\n",
        "\n",
        "\n",
        "d = svc_clf.named_steps['clf']\n",
        "\n",
        "print(d)"
      ],
      "metadata": {
        "id": "qd4SnDtGoUvR",
        "outputId": "9f63f9f6-46c1-4cec-834c-38c1ba110eee",
        "colab": {
          "base_uri": "https://localhost:8080/"
        }
      },
      "execution_count": 146,
      "outputs": [
        {
          "output_type": "stream",
          "name": "stdout",
          "text": [
            "Model: \"sequential\"\n",
            "_________________________________________________________________\n",
            " Layer (type)                Output Shape              Param #   \n",
            "=================================================================\n",
            " embedding (Embedding)       (None, 100, 64)           320000    \n",
            "                                                                 \n",
            " bidirectional (Bidirection  (None, 100, 64)           24832     \n",
            " al)                                                             \n",
            "                                                                 \n",
            " bidirectional_1 (Bidirecti  (None, 64)                24832     \n",
            " onal)                                                           \n",
            "                                                                 \n",
            " batch_normalization (Batch  (None, 64)                256       \n",
            " Normalization)                                                  \n",
            "                                                                 \n",
            " dense (Dense)               (None, 32)                2080      \n",
            "                                                                 \n",
            " dropout (Dropout)           (None, 32)                0         \n",
            "                                                                 \n",
            " dense_1 (Dense)             (None, 1)                 33        \n",
            "                                                                 \n",
            "=================================================================\n",
            "Total params: 372033 (1.42 MB)\n",
            "Trainable params: 371905 (1.42 MB)\n",
            "Non-trainable params: 128 (512.00 Byte)\n",
            "_________________________________________________________________\n",
            "CalibratedClassifierCV(base_estimator=LinearSVC())\n"
          ]
        }
      ]
    }
  ]
}