{
  "nbformat": 4,
  "nbformat_minor": 0,
  "metadata": {
    "colab": {
      "provenance": [],
      "machine_shape": "hm",
      "gpuType": "T4",
      "authorship_tag": "ABX9TyPK1DEqOYhmNjpHFcdTo0Sq",
      "include_colab_link": true
    },
    "kernelspec": {
      "name": "python3",
      "display_name": "Python 3"
    },
    "language_info": {
      "name": "python"
    },
    "accelerator": "GPU"
  },
  "cells": [
    {
      "cell_type": "markdown",
      "metadata": {
        "id": "view-in-github",
        "colab_type": "text"
      },
      "source": [
        "<a href=\"https://colab.research.google.com/github/nanac0n/2024ML_Are_U_T/blob/main/Project_LSTM.ipynb\" target=\"_parent\"><img src=\"https://colab.research.google.com/assets/colab-badge.svg\" alt=\"Open In Colab\"/></a>"
      ]
    },
    {
      "cell_type": "code",
      "source": [
        "from google.colab import drive\n",
        "drive.mount('/content/drive')"
      ],
      "metadata": {
        "colab": {
          "base_uri": "https://localhost:8080/"
        },
        "id": "Z6nWCTjmu-gb",
        "outputId": "738a7e86-d25a-49f9-9ef9-057748b225e7"
      },
      "execution_count": 13,
      "outputs": [
        {
          "output_type": "stream",
          "name": "stdout",
          "text": [
            "Drive already mounted at /content/drive; to attempt to forcibly remount, call drive.mount(\"/content/drive\", force_remount=True).\n"
          ]
        }
      ]
    },
    {
      "cell_type": "code",
      "source": [
        "!pip install keras-tuner"
      ],
      "metadata": {
        "colab": {
          "base_uri": "https://localhost:8080/"
        },
        "id": "2IjLRtMEvcw5",
        "outputId": "29207b24-816e-4fea-9d41-000e30e5ed46"
      },
      "execution_count": null,
      "outputs": [
        {
          "output_type": "stream",
          "name": "stdout",
          "text": [
            "Collecting keras-tuner\n",
            "  Downloading keras_tuner-1.4.7-py3-none-any.whl (129 kB)\n",
            "\u001b[?25l     \u001b[90m━━━━━━━━━━━━━━━━━━━━━━━━━━━━━━━━━━━━━━━━\u001b[0m \u001b[32m0.0/129.1 kB\u001b[0m \u001b[31m?\u001b[0m eta \u001b[36m-:--:--\u001b[0m\r\u001b[2K     \u001b[90m━━━━━━━━━━━━━━━━━━━━━━━━━━━━━━━━━━━━━━━━\u001b[0m \u001b[32m129.1/129.1 kB\u001b[0m \u001b[31m4.5 MB/s\u001b[0m eta \u001b[36m0:00:00\u001b[0m\n",
            "\u001b[?25hRequirement already satisfied: keras in /usr/local/lib/python3.10/dist-packages (from keras-tuner) (2.15.0)\n",
            "Requirement already satisfied: packaging in /usr/local/lib/python3.10/dist-packages (from keras-tuner) (24.0)\n",
            "Requirement already satisfied: requests in /usr/local/lib/python3.10/dist-packages (from keras-tuner) (2.31.0)\n",
            "Collecting kt-legacy (from keras-tuner)\n",
            "  Downloading kt_legacy-1.0.5-py3-none-any.whl (9.6 kB)\n",
            "Requirement already satisfied: charset-normalizer<4,>=2 in /usr/local/lib/python3.10/dist-packages (from requests->keras-tuner) (3.3.2)\n",
            "Requirement already satisfied: idna<4,>=2.5 in /usr/local/lib/python3.10/dist-packages (from requests->keras-tuner) (3.7)\n",
            "Requirement already satisfied: urllib3<3,>=1.21.1 in /usr/local/lib/python3.10/dist-packages (from requests->keras-tuner) (2.0.7)\n",
            "Requirement already satisfied: certifi>=2017.4.17 in /usr/local/lib/python3.10/dist-packages (from requests->keras-tuner) (2024.2.2)\n",
            "Installing collected packages: kt-legacy, keras-tuner\n",
            "Successfully installed keras-tuner-1.4.7 kt-legacy-1.0.5\n"
          ]
        }
      ]
    },
    {
      "cell_type": "code",
      "execution_count": null,
      "metadata": {
        "colab": {
          "base_uri": "https://localhost:8080/"
        },
        "id": "t26AUnRXuSgk",
        "outputId": "12981acd-f6da-4dda-ccc7-271ebbe1409c"
      },
      "outputs": [
        {
          "output_type": "stream",
          "name": "stderr",
          "text": [
            "<ipython-input-3-718ecfd2b2b2>:11: DeprecationWarning: `import kerastuner` is deprecated, please use `import keras_tuner`.\n",
            "  from kerastuner.tuners import RandomSearch\n",
            "[nltk_data] Downloading package wordnet to /root/nltk_data...\n",
            "[nltk_data] Downloading package stopwords to /root/nltk_data...\n",
            "[nltk_data]   Unzipping corpora/stopwords.zip.\n"
          ]
        }
      ],
      "source": [
        "import numpy as np\n",
        "import pandas as pd\n",
        "import tensorflow as tf\n",
        "from tensorflow.keras.preprocessing.text import Tokenizer\n",
        "from tensorflow.keras.preprocessing.sequence import pad_sequences\n",
        "from sklearn.model_selection import train_test_split\n",
        "from tensorflow.keras.models import Sequential\n",
        "from tensorflow.keras.layers import Embedding, LSTM, Dense, Dropout, Bidirectional, BatchNormalization\n",
        "from tensorflow.keras.optimizers import Adam\n",
        "from tensorflow.keras.callbacks import EarlyStopping\n",
        "from kerastuner.tuners import RandomSearch\n",
        "import random\n",
        "import nltk\n",
        "from nltk.corpus import wordnet\n",
        "from nltk.corpus import stopwords\n",
        "\n",
        "# nltk 데이터 다운로드\n",
        "nltk.download('wordnet')\n",
        "nltk.download('stopwords')\n",
        "\n",
        "stop_words = set(stopwords.words('english'))\n",
        "\n",
        "# 데이터 로드 및 전처리\n",
        "file_path = '/content/drive/MyDrive/adasyn.csv'\n",
        "df = pd.read_csv(file_path)\n",
        "\n",
        "df['type'] = df['type'].replace({\n",
        "    'INTJ': 'T', 'INTP': 'T', 'ENTJ': 'T', 'ENTP': 'T',\n",
        "    'ISTJ': 'T', 'ISTP': 'T', 'ESTJ': 'T', 'ESTP': 'T',\n",
        "    'INFJ': 'F', 'INFP': 'F', 'ENFJ': 'F', 'ENFP': 'F',\n",
        "    'ISFJ': 'F', 'ISFP': 'F', 'ESFJ': 'F', 'ESFP': 'F'\n",
        "})\n",
        "\n",
        "texts = df['posts'].values\n",
        "labels = df['type'].values\n",
        "\n",
        "# 텍스트 토큰화 및 패딩\n",
        "tokenizer = Tokenizer(num_words=5000)\n",
        "tokenizer.fit_on_texts(texts)\n",
        "sequences = tokenizer.texts_to_sequences(texts)\n",
        "\n",
        "maxlen = 100\n",
        "data = pad_sequences(sequences, maxlen=maxlen)\n",
        "\n",
        "# 라벨 인코딩 (T -> 0, F -> 1)\n",
        "label_dict = {'T': 0, 'F': 1}\n",
        "labels = np.array([label_dict[label] for label in labels])\n",
        "\n",
        "# 학습 및 테스트 데이터 분리\n",
        "X_train, X_test, y_train, y_test = train_test_split(data, labels, test_size=0.2, random_state=42)\n",
        "\n",
        "# 데이터 증강 함수\n",
        "def get_synonyms(word):\n",
        "    synonyms = set()\n",
        "    for syn in wordnet.synsets(word):\n",
        "        for lemma in syn.lemmas():\n",
        "            synonyms.add(lemma.name())\n",
        "    return synonyms\n",
        "\n",
        "def synonym_replacement(text, n):\n",
        "    words = text.split()\n",
        "    new_words = words.copy()\n",
        "    random_word_list = list(set([word for word in words if word not in stop_words]))\n",
        "    random.shuffle(random_word_list)\n",
        "    num_replaced = 0\n",
        "    for random_word in random_word_list:\n",
        "        synonyms = get_synonyms(random_word)\n",
        "        if len(synonyms) >= 1:\n",
        "            synonym = random.choice(list(synonyms))\n",
        "            new_words = [synonym if word == random_word else word for word in new_words]\n",
        "            num_replaced += 1\n",
        "        if num_replaced >= n:\n",
        "            break\n",
        "    sentence = ' '.join(new_words)\n",
        "    return sentence\n",
        "\n",
        "\n"
      ]
    },
    {
      "cell_type": "code",
      "source": [
        "# 배치로 텍스트 데이터 증강\n",
        "def augment_data(texts, n_aug=2, n_replace=1):\n",
        "    augmented_texts = []\n",
        "    for text in texts:\n",
        "        for _ in range(n_aug):\n",
        "            augmented_text = synonym_replacement(text, n_replace)\n",
        "            augmented_texts.append(augmented_text)\n",
        "    return np.array(augmented_texts)\n",
        "\n",
        "batch_size = 1000  # 배치 크기 설정\n",
        "augmented_texts = []\n",
        "augmented_labels = []\n",
        "\n",
        "for start in range(0, len(texts), batch_size):\n",
        "    end = min(start + batch_size, len(texts))\n",
        "    batch_texts = texts[start:end]\n",
        "    batch_labels = labels[start:end]\n",
        "    batch_augmented_texts = augment_data(batch_texts)\n",
        "    augmented_texts.extend(batch_texts)\n",
        "    augmented_texts.extend(batch_augmented_texts)\n",
        "    augmented_labels.extend(batch_labels)\n",
        "    augmented_labels.extend(batch_labels.repeat(len(batch_augmented_texts) // len(batch_texts)))\n",
        "\n",
        "texts = np.array(augmented_texts)\n",
        "labels = np.array(augmented_labels)\n",
        "\n",
        "# 텍스트 토큰화 및 패딩 갱신\n",
        "sequences = tokenizer.texts_to_sequences(texts)\n",
        "data = pad_sequences(sequences, maxlen=maxlen)\n",
        "\n",
        "# 학습 및 테스트 데이터 분리 갱신\n",
        "X_train, X_test, y_train, y_test = train_test_split(data, labels, test_size=0.2, random_state=42)\n",
        "\n",
        "# 하이퍼파라미터 튜닝을 위한 모델 빌더 함수\n",
        "def build_model(hp):\n",
        "    model = Sequential()\n",
        "    model.add(Embedding(input_dim=5000, output_dim=hp.Int('embedding_dim', min_value=64, max_value=128, step=32), input_length=maxlen))\n",
        "    model.add(Bidirectional(LSTM(hp.Int('lstm_units', min_value=32, max_value=64, step=32), return_sequences=True, dropout=hp.Float('dropout', min_value=0.1, max_value=0.3, step=0.1))))\n",
        "    model.add(Bidirectional(LSTM(hp.Int('lstm_units', min_value=32, max_value=64, step=32), dropout=hp.Float('dropout', min_value=0.1, max_value=0.3, step=0.1))))\n",
        "    model.add(BatchNormalization())\n",
        "    model.add(Dense(hp.Int('dense_units', min_value=32, max_value=64, step=32), activation='relu'))\n",
        "    model.add(Dropout(hp.Float('dropout', min_value=0.1, max_value=0.3, step=0.1)))\n",
        "    model.add(Dense(1, activation='sigmoid'))\n",
        "\n",
        "    model.compile(optimizer=Adam(hp.Float('learning_rate', min_value=1e-5, max_value=1e-3, sampling='LOG')),\n",
        "                  loss='binary_crossentropy',\n",
        "                  metrics=['accuracy'])\n",
        "    return model\n",
        "\n",
        "# Keras Tuner를 사용한 하이퍼파라미터 튜닝\n",
        "tuner = RandomSearch(build_model,\n",
        "                     objective='val_accuracy',\n",
        "                     max_trials=3,  # 시도 횟수를 줄여 메모리 사용량 감소\n",
        "                     executions_per_trial=1,\n",
        "                     directory='my_dir',\n",
        "                     project_name='lstm_tuning')\n",
        "\n",
        "# 튜닝 수행\n",
        "tuner.search(X_train, y_train, epochs=5, validation_split=0.2, batch_size=32, callbacks=[EarlyStopping(monitor='val_loss', patience=3, restore_best_weights=True)])  # 배치 크기 줄이기\n",
        "\n",
        "# 최적의 하이퍼파라미터로 모델 학습\n",
        "best_model = tuner.get_best_models(num_models=1)[0]\n",
        "\n",
        "# 모델 평가\n",
        "loss, accuracy = best_model.evaluate(X_test, y_test)\n",
        "print(f'Test Accuracy: {accuracy:.4f}')"
      ],
      "metadata": {
        "colab": {
          "base_uri": "https://localhost:8080/"
        },
        "id": "ARXn77h-wPNx",
        "outputId": "ee929a13-c396-477f-aa52-f6c7336b6251"
      },
      "execution_count": null,
      "outputs": [
        {
          "output_type": "stream",
          "name": "stdout",
          "text": [
            "Trial 3 Complete [00h 15m 25s]\n",
            "val_accuracy: 0.9154937267303467\n",
            "\n",
            "Best val_accuracy So Far: 0.9154937267303467\n",
            "Total elapsed time: 00h 45m 21s\n",
            "2931/2931 [==============================] - 23s 7ms/step - loss: 0.2345 - accuracy: 0.9143\n",
            "Test Accuracy: 0.9143\n"
          ]
        }
      ]
    },
    {
      "cell_type": "code",
      "source": [
        "best_model.save(\"/content/drive/MyDrive/lstm_model.h5\")"
      ],
      "metadata": {
        "colab": {
          "base_uri": "https://localhost:8080/"
        },
        "id": "h8ewHlCaIOH5",
        "outputId": "8d765ded-745b-4f69-ea00-05a667b133e5"
      },
      "execution_count": 20,
      "outputs": [
        {
          "output_type": "stream",
          "name": "stderr",
          "text": [
            "/usr/local/lib/python3.10/dist-packages/keras/src/engine/training.py:3103: UserWarning: You are saving your model as an HDF5 file via `model.save()`. This file format is considered legacy. We recommend using instead the native Keras format, e.g. `model.save('my_model.keras')`.\n",
            "  saving_api.save_model(\n"
          ]
        }
      ]
    },
    {
      "cell_type": "code",
      "source": [
        "import joblib\n",
        "\n",
        "# 모델 저장\n",
        "model_save_path = '/content/drive/MyDrive/lstm_model.pkl'  # 드라이브 내 저장 경로 설정\n",
        "joblib.dump(best_model, model_save_path)"
      ],
      "metadata": {
        "colab": {
          "base_uri": "https://localhost:8080/"
        },
        "id": "WzPKIMQZIqGI",
        "outputId": "8737c0bb-3a76-498a-bd0b-d19847ee177c"
      },
      "execution_count": null,
      "outputs": [
        {
          "output_type": "execute_result",
          "data": {
            "text/plain": [
              "['/content/drive/MyDrive/lstm_model.pkl']"
            ]
          },
          "metadata": {},
          "execution_count": 11
        }
      ]
    },
    {
      "cell_type": "code",
      "source": [
        "import matplotlib.pyplot as plt"
      ],
      "metadata": {
        "id": "aFffKjpiG7rQ"
      },
      "execution_count": null,
      "outputs": []
    },
    {
      "cell_type": "code",
      "source": [
        "# 모델 평가\n",
        "loss, accuracy = best_model.evaluate(X_test, y_test)\n",
        "print(f'Test Accuracy: {accuracy:.4f}')\n",
        "\n",
        "# ROC AUC Score, F1 Score 및 Confusion Matrix 계산\n",
        "from sklearn.metrics import roc_auc_score, f1_score, confusion_matrix, roc_curve, auc, classification_report\n",
        "\n",
        "# 예측 수행\n",
        "predictions = best_model.predict(X_test)\n",
        "preds = np.argmax(predictions, axis=1)  # 멀티클래스 분류를 위한 axis 설정\n",
        "\n",
        "# 정확도 및 기타 성능 지표 계산\n",
        "roc_auc = roc_auc_score(y_test, predictions)  # 이진 분류 가정; Softmax 확률 중 '1' 클래스의 확률을 사용\n",
        "f1 = f1_score(y_test, preds)\n",
        "cm = confusion_matrix(y_test, preds)\n",
        "\n",
        "# 성능 지표 출력\n",
        "print(f'ROC AUC Score: {roc_auc:.4f}')\n",
        "print(f'F1 Score: {f1:.4f}')\n",
        "print(classification_report(y_test, preds))\n",
        "\n",
        "# 특이도 계산\n",
        "specificity = cm[0, 0] / (cm[0, 0] + cm[0, 1])\n",
        "print(f'Specificity: {specificity:.4f}')\n",
        "\n",
        "# ROC Curve\n",
        "fpr, tpr, _ = roc_curve(y_test, predictions.ravel())  # Extract probabilities from the single column\n",
        "roc_auc = auc(fpr, tpr)\n",
        "\n",
        "# ROC Curve 그리기\n",
        "plt.figure()\n",
        "plt.plot(fpr, tpr, color='darkorange', lw=2, label=f'ROC curve (area = {roc_auc:.2f})')\n",
        "plt.plot([0, 1], [0, 1], color='navy', lw=2, linestyle='--')\n",
        "plt.xlim([0.0, 1.0])\n",
        "plt.ylim([0.0, 1.05])\n",
        "plt.xlabel('False Positive Rate')\n",
        "plt.ylabel('True Positive Rate')\n",
        "plt.title('Receiver Operating Characteristic')\n",
        "plt.legend(loc=\"lower right\")\n",
        "plt.show()\n"
      ],
      "metadata": {
        "colab": {
          "base_uri": "https://localhost:8080/",
          "height": 863
        },
        "id": "G7NOer8WGi9_",
        "outputId": "19bfead6-5500-4160-a11e-c1ca9fe688a7"
      },
      "execution_count": 17,
      "outputs": [
        {
          "output_type": "stream",
          "name": "stdout",
          "text": [
            "2931/2931 [==============================] - 21s 7ms/step - loss: 0.2345 - accuracy: 0.9143\n",
            "Test Accuracy: 0.9143\n",
            "2931/2931 [==============================] - 19s 6ms/step\n",
            "ROC AUC Score: 0.9690\n",
            "F1 Score: 0.0000\n",
            "              precision    recall  f1-score   support\n",
            "\n",
            "           0       0.47      1.00      0.64     43914\n",
            "           1       0.00      0.00      0.00     49866\n",
            "\n",
            "    accuracy                           0.47     93780\n",
            "   macro avg       0.23      0.50      0.32     93780\n",
            "weighted avg       0.22      0.47      0.30     93780\n",
            "\n",
            "Specificity: 1.0000\n"
          ]
        },
        {
          "output_type": "stream",
          "name": "stderr",
          "text": [
            "/usr/local/lib/python3.10/dist-packages/sklearn/metrics/_classification.py:1344: UndefinedMetricWarning: Precision and F-score are ill-defined and being set to 0.0 in labels with no predicted samples. Use `zero_division` parameter to control this behavior.\n",
            "  _warn_prf(average, modifier, msg_start, len(result))\n",
            "/usr/local/lib/python3.10/dist-packages/sklearn/metrics/_classification.py:1344: UndefinedMetricWarning: Precision and F-score are ill-defined and being set to 0.0 in labels with no predicted samples. Use `zero_division` parameter to control this behavior.\n",
            "  _warn_prf(average, modifier, msg_start, len(result))\n",
            "/usr/local/lib/python3.10/dist-packages/sklearn/metrics/_classification.py:1344: UndefinedMetricWarning: Precision and F-score are ill-defined and being set to 0.0 in labels with no predicted samples. Use `zero_division` parameter to control this behavior.\n",
            "  _warn_prf(average, modifier, msg_start, len(result))\n"
          ]
        },
        {
          "output_type": "display_data",
          "data": {
            "text/plain": [
              "<Figure size 640x480 with 1 Axes>"
            ],
            "image/png": "[encoded data removed]"
          },
          "metadata": {}
        }
      ]
    }
  ]
}